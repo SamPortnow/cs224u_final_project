{
 "cells": [
  {
   "cell_type": "markdown",
   "id": "61f9e5f4",
   "metadata": {},
   "source": [
    "# Baseline Model for Project"
   ]
  },
  {
   "cell_type": "code",
   "execution_count": 79,
   "id": "acb8a42b",
   "metadata": {},
   "outputs": [],
   "source": [
    "from dotenv import load_dotenv"
   ]
  },
  {
   "cell_type": "code",
   "execution_count": 80,
   "id": "c5f75422",
   "metadata": {},
   "outputs": [],
   "source": [
    "import pandas as pd\n",
    "from compgen import recogs_exact_match\n",
    "import dspy\n",
    "import numpy as np"
   ]
  },
  {
   "cell_type": "code",
   "execution_count": 81,
   "id": "801865ff",
   "metadata": {},
   "outputs": [],
   "source": [
    "import os\n",
    "# keep the API keys in a `.env` file in the local root directory\n",
    "load_dotenv()\n",
    "openai_key = os.getenv('OPENAI_API_KEY')  # use the .env file as it is a good practice to keep keys outside of one's code\n"
   ]
  },
  {
   "cell_type": "code",
   "execution_count": 82,
   "id": "7861df6c",
   "metadata": {},
   "outputs": [],
   "source": [
    "train_set = pd.read_csv('./data/RECOGStrain.tsv', sep = '\\t', header = None)\n",
    "gen_set = pd.read_csv('./data/RECOGSgen.tsv', sep = '\\t', header = None)"
   ]
  },
  {
   "cell_type": "code",
   "execution_count": 83,
   "id": "448fa37c",
   "metadata": {},
   "outputs": [],
   "source": [
    "prompt = \"\"\"Translate each of the following sentences into ReCOGS logical format.\"\"\""
   ]
  },
  {
   "cell_type": "code",
   "execution_count": 84,
   "id": "30e3c933",
   "metadata": {},
   "outputs": [],
   "source": [
    "lm = dspy.LM(model='gpt-3.5-turbo', api_key=openai_key)"
   ]
  },
  {
   "cell_type": "code",
   "execution_count": 85,
   "id": "06b722c6",
   "metadata": {},
   "outputs": [],
   "source": [
    "def make_prompt(sentences: list[str]) -> str:\n",
    "    prompt = \"Translate each of the following sentences into ReCOGS logical format:\\n\\n\"\n",
    "    for i, s in enumerate(sentences, 1):\n",
    "        prompt += f\"{i}. {s}\\n\"\n",
    "    return prompt"
   ]
  },
  {
   "cell_type": "code",
   "execution_count": 86,
   "id": "2c7d5e19",
   "metadata": {},
   "outputs": [],
   "source": [
    "output_predictions = []\n",
    "\n",
    "for i, row in gen_set[0:5].iterrows():\n",
    "    # get the sentence\n",
    "    sentence = row[0]\n",
    "    # make the prompt\n",
    "    prompt = make_prompt([sentence])\n",
    "    # get the prediction\n",
    "    prediction = lm(prompt, temperature=0.9, max_tokens=1000)[0]\n",
    "    output_predictions.append(prediction)"
   ]
  },
  {
   "cell_type": "code",
   "execution_count": 87,
   "id": "c3cf89af",
   "metadata": {},
   "outputs": [
    {
     "name": "stdout",
     "output_type": "stream",
     "text": [
      "There is a person, Paula. Paula did an action, painted. The thing Paula painted is a cake. The location where Paula painted the cake is a closet.\n",
      "belief(Zoe, clean(hippo))\n",
      "(teleport princess cookie goose)\n",
      "∃x∃y∃z(cockroach(x) ∧ pretzel(y) ∧ person(z) ∧ name(z, \"Olivia\") ∧ gave(x, y, z))\n",
      "Hopped(hippo,paint,Girl)\n"
     ]
    }
   ],
   "source": [
    "accuracy = []\n",
    "\n",
    "for i, row in gen_set[0:5].iterrows():\n",
    "    print (output_predictions[i])\n",
    "    accuracy.append(recogs_exact_match(row[1], output_predictions[i]))\n",
    "\n"
   ]
  },
  {
   "cell_type": "code",
   "execution_count": 88,
   "id": "44d4ec1b",
   "metadata": {},
   "outputs": [
    {
     "data": {
      "text/plain": [
       "0.0"
      ]
     },
     "execution_count": 88,
     "metadata": {},
     "output_type": "execute_result"
    }
   ],
   "source": [
    "np.mean(accuracy)"
   ]
  },
  {
   "cell_type": "code",
   "execution_count": 89,
   "id": "6f0ac723",
   "metadata": {},
   "outputs": [],
   "source": [
    "dspy.settings.configure(lm=lm)"
   ]
  },
  {
   "cell_type": "code",
   "execution_count": 90,
   "id": "9817f41b",
   "metadata": {},
   "outputs": [],
   "source": [
    "class RecogsSignature(dspy.Signature):\n",
    "    __doc__ = \"\"\"Translate English sentences into logical form.\"\"\"\n",
    "\n",
    "    sentence = dspy.InputField()\n",
    "    logical_form = dspy.OutputField()"
   ]
  },
  {
   "cell_type": "code",
   "execution_count": 91,
   "id": "e28e7571",
   "metadata": {},
   "outputs": [],
   "source": [
    "class RecogsDspy(dspy.Module):\n",
    "    def __init__(self):\n",
    "        super().__init__()\n",
    "        # Create an attribute called `self.predict`:\n",
    "        ##### YOUR CODE HERE\n",
    "        self.predict = dspy.Predict(RecogsSignature)\n",
    "\n",
    "\n",
    "    def forward(self, sentence):\n",
    "        \"\"\"Use the prediction later defined in the `init` method,\n",
    "        and return a `dspy.Prediction` instance with attribute\n",
    "        `logical_form`.\n",
    "        \"\"\"\n",
    "        ##### YOUR CODE HERE\n",
    "        return self.predict(sentence = sentence)\n",
    "\n"
   ]
  },
  {
   "cell_type": "code",
   "execution_count": 92,
   "id": "9b148752",
   "metadata": {},
   "outputs": [],
   "source": [
    "recogs_dspy_model = RecogsDspy()"
   ]
  },
  {
   "cell_type": "code",
   "execution_count": 93,
   "id": "eeb0e393",
   "metadata": {},
   "outputs": [],
   "source": [
    "from dspy.teleprompt import LabeledFewShot\n",
    "\n",
    "def fewshot_recogs_dspy(model):\n",
    "    ##### YOUR CODE HERE\n",
    "    teleprompter = LabeledFewShot(k = 10)\n",
    "    compiled = teleprompter.compile(student = model, trainset = dspy_recogs_train)\n",
    "    return compiled"
   ]
  },
  {
   "cell_type": "code",
   "execution_count": 94,
   "id": "20a77f07",
   "metadata": {},
   "outputs": [],
   "source": [
    "dspy_recogs_train = [\n",
    "    dspy.Example(\n",
    "        sentence=row[0], logical_form=row[1]\n",
    "    ).with_inputs(\"sentence\")\n",
    "    for _, row in train_set.iterrows()]"
   ]
  },
  {
   "cell_type": "code",
   "execution_count": 95,
   "id": "6f20e13f",
   "metadata": {},
   "outputs": [],
   "source": [
    "compiled_recogs_dspy_model = fewshot_recogs_dspy(recogs_dspy_model)"
   ]
  },
  {
   "cell_type": "code",
   "execution_count": null,
   "id": "8ee0b547",
   "metadata": {},
   "outputs": [],
   "source": [
    "gen_set_sample = gen_set.sample(100, random_state=42)"
   ]
  },
  {
   "cell_type": "code",
   "execution_count": 99,
   "id": "3c3ba47f",
   "metadata": {},
   "outputs": [],
   "source": [
    "gen_set_sample['prediction'] = gen_set_sample[0].apply(\n",
    "    lambda x: compiled_recogs_dspy_model(sentence=x).logical_form)\n",
    "  "
   ]
  },
  {
   "cell_type": "code",
   "execution_count": 100,
   "id": "07bb3221",
   "metadata": {},
   "outputs": [],
   "source": [
    "preds =  list(gen_set_sample['prediction'])\n",
    "gold = list(gen_set_sample[1])"
   ]
  },
  {
   "cell_type": "code",
   "execution_count": 102,
   "id": "035ddc02",
   "metadata": {},
   "outputs": [],
   "source": [
    "gen_set_sample['correct'] = gen_set_sample.apply(\n",
    "    lambda row: recogs_exact_match(row[1], row['prediction']), axis=1)  "
   ]
  },
  {
   "cell_type": "code",
   "execution_count": 106,
   "id": "bc18b0ef",
   "metadata": {},
   "outputs": [
    {
     "data": {
      "text/plain": [
       "0.2"
      ]
     },
     "execution_count": 106,
     "metadata": {},
     "output_type": "execute_result"
    }
   ],
   "source": [
    "gen_set_sample['correct'].mean()"
   ]
  },
  {
   "cell_type": "code",
   "execution_count": 78,
   "id": "395c8f20",
   "metadata": {},
   "outputs": [
    {
     "data": {
      "text/plain": [
       "['Noah ( 9 ) ; Ava ( 33 ) ; * ball ( 48 ) ; ship ( 14 ) AND agent ( 14 , 9 ) AND recipient ( 14 , 33 ) AND theme ( 14 , 48 )',\n",
       " '* bear ( 40 ) ; crystal ( 7 ) ; squeeze ( 15 ) AND agent ( 15 , 40 ) AND theme ( 15 , 7 )',\n",
       " '* donut ( 47 ) ; bed ( 48 ) ; * girl ( 42 ) ; boat ( 46 ) ; nmod . beside ( 47 , 48 ) AND sketch ( 0 ) AND theme ( 0 , 47 ) AND agent ( 0 , 42 ) AND nmod . beside ( 42 , 46 )',\n",
       " 'Emma ( 18 ) ; * boy ( 30 ) ; cake ( 24 ) ; * house ( 34 ) ; ship ( 5 ) AND agent ( 5 , 18 ) AND recipient ( 5 , 30 ) AND theme ( 5 , 24 ) AND nmod . in ( 24 , 34 )',\n",
       " '* mouse ( 46 ) ; girl ( 5 ) ; Charlotte ( 29 ) ; Lucas ( 37 ) ; Emma ( 25 ) ; dog ( 4 ) ; Wyatt ( 11 ) ; Evelyn ( 35 ) ; Noah ( 15 ) ; Thomas ( 42 ) ; William ( 10 ) ; Savannah ( 28 ) ; boy ( 36 ) ; like ( 17 ) AND agent ( 17 , 46 ) AND ccomp ( 17 , 24 ) AND hope ( 24 ) AND agent ( 24 , 5 ) AND ccomp ( 24 , 50 ) AND hope ( 50 ) AND agent ( 50 , 29 ) AND ccomp ( 50 , 18 ) AND confess ( 18 ) AND agent ( 18 , 37 ) AND ccomp ( 18 , 31 ) AND dream ( 31 ) AND agent ( 31 , 25 ) AND ccomp ( 31 , 40 ) AND tolerate ( 40 ) AND agent ( 40 , 4 ) AND ccomp ( 40 , 34 ) AND expect ( 34 ) AND agent ( 34 , 11 ) AND ccomp ( 34 , 9 ) AND like ( 9 ) AND agent ( 9 , 35 ) AND ccomp ( 9 , 32 ) AND dream ( 32 ) AND agent ( 32 , 15 ) AND ccomp ( 32 , 51 ) AND respect ( 51 ) AND agent ( 51 , 42 ) AND ccomp ( 51 , 33 ) AND like ( 33 ) AND agent ( 33 , 10 ) AND ccomp ( 33 , 13 ) AND like ( 13 ) AND agent ( 13 , 28 ) AND ccomp ( 13 , 53 ) AND eat ( 53 ) AND agent ( 53 , 36 )']"
      ]
     },
     "execution_count": 78,
     "metadata": {},
     "output_type": "execute_result"
    }
   ],
   "source": [
    "gen_set_sample[1][0:5].to_list()"
   ]
  },
  {
   "cell_type": "code",
   "execution_count": null,
   "id": "27b9d98e",
   "metadata": {},
   "outputs": [],
   "source": []
  }
 ],
 "metadata": {
  "kernelspec": {
   "display_name": "nlu_redo",
   "language": "python",
   "name": "python3"
  },
  "language_info": {
   "codemirror_mode": {
    "name": "ipython",
    "version": 3
   },
   "file_extension": ".py",
   "mimetype": "text/x-python",
   "name": "python",
   "nbconvert_exporter": "python",
   "pygments_lexer": "ipython3",
   "version": "3.9.21"
  }
 },
 "nbformat": 4,
 "nbformat_minor": 5
}
