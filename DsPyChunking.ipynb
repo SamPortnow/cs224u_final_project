{
 "cells": [
  {
   "cell_type": "code",
   "execution_count": null,
   "id": "bf143082",
   "metadata": {},
   "outputs": [],
   "source": [
    "from collections import defaultdict\n",
    "from itertools import product\n",
    "import re\n",
    "\n",
    "\n",
    "\n",
    "def recogs_exact_match(gold, pred, flag=\"000000\"):\n",
    "    gold = normalize_formula(gold.logical_form)\n",
    "    pred = normalize_formula(pred.logical_form)\n",
    "    gold_conj_set = get_conj_set(gold)\n",
    "    # Loop over all viable mappings from pred_vars to gold_vars:\n",
    "    for this_map in _candidate_variable_maps(gold, pred):\n",
    "        phi = pred\n",
    "        for sourcevar, targetvar in this_map.items():\n",
    "            # The flag makes sure we don't accidentally do a chain\n",
    "            # of replacements via successive changes in situations\n",
    "            # where the domain and range of `this_map` share vars.\n",
    "            phi = variable_change(phi, sourcevar, targetvar, flag=flag)\n",
    "        print ('now here!')\n",
    "        phi = phi.replace(flag, \"\")\n",
    "        phi_conj_set = get_conj_set(phi)\n",
    "        # This step assumes that we have no conjuncts that are\n",
    "        # tautologies, contradictions, or equality predications. If\n",
    "        # such are introduced, they need to be identified ahead of\n",
    "        # time and treated separately -- tautologies would be removed,\n",
    "        # contradictions would reduce to comparisons of only those\n",
    "        # conjuncts, and equality statements would call for special\n",
    "        # handling related to variables mapping.\n",
    "        if phi_conj_set == gold_conj_set:\n",
    "            return True\n",
    "    return False\n",
    "\n",
    "\n",
    "def normalize_formula(phi):\n",
    "    return phi.replace(\" \", \"\").replace(\"AND\" , \" AND \")\n",
    "\n",
    "\n",
    "binary_pred_re = re.compile(r\"\"\"\n",
    "    (\\w+)\n",
    "    \\s*\n",
    "    \\(\n",
    "    \\s*\n",
    "    (\\d+)\n",
    "    \\s*\n",
    "    ,\n",
    "    \\s*\n",
    "    (\\d+)\n",
    "    \\s*\n",
    "    \\)\"\"\", re.VERBOSE)\n",
    "\n",
    "\n",
    "unary_pred_re = re.compile(r\"\"\"\n",
    "    (\\w+)\n",
    "    \\s*\n",
    "    \\(\n",
    "    \\s*\n",
    "    (\\d+)\n",
    "    \\s*\n",
    "    \\)\"\"\", re.VERBOSE)\n",
    "\n",
    "\n",
    "def _candidate_variable_maps(gold, pred):\n",
    "    # This creates a mapping from tuples of predicates into their\n",
    "    # associated variables. These serve as equivalence classes over\n",
    "    # variables that could possibly be translations of each other.\n",
    "    gold_map = _map_get_preds_to_vars(gold)\n",
    "    pred_map = _map_get_preds_to_vars(pred)\n",
    "\n",
    "    # For each prediction variable, get the set of potential\n",
    "    # translations for it:\n",
    "    pred2gold = defaultdict(list)\n",
    "    for preds, pvars in pred_map.items():\n",
    "        gvars = gold_map[preds]\n",
    "        for pvar in pvars:\n",
    "            pred2gold[pvar] = gold_map[preds]\n",
    "\n",
    "    # Variable sets:\n",
    "    gold_vars = set(get_variables(gold))\n",
    "    pred_vars = set(get_variables(pred))\n",
    "\n",
    "    # Now generate potentially viable mappings:\n",
    "    for vals in list(product(*list(pred2gold.values()))):\n",
    "        d = dict(zip(pred2gold.keys(), vals))\n",
    "        if set(d.keys()) == pred_vars and set(d.values()) == gold_vars:\n",
    "            yield d\n",
    "\n",
    "\n",
    "def _map_get_preds_to_vars(phi):\n",
    "    var2pred = defaultdict(list)\n",
    "    for pred, var in unary_pred_re.findall(phi):\n",
    "        var2pred[var].append(pred)\n",
    "    # We could do somewhat less search by specializing to first and\n",
    "    # second position for these predicates, but I think it's fine\n",
    "    # as-is.\n",
    "    for pred, var1, var2 in binary_pred_re.findall(phi):\n",
    "        var2pred[var1].append(pred)\n",
    "        var2pred[var2].append(pred)\n",
    "    pred2var = defaultdict(list)\n",
    "    for var, preds in var2pred.items():\n",
    "        pred2var[tuple(sorted(preds))].append(var)\n",
    "    return pred2var\n",
    "\n",
    "\n",
    "def get_variables(phi):\n",
    "    variable_re = re.compile(r\"(\\d+)\")\n",
    "    return variable_re.findall(phi)\n",
    "\n",
    "\n",
    "def get_conj_set(phi):\n",
    "    conj_splitter_re  = re.compile(r\"\\s*(?:AND|;)\\s*\")\n",
    "    return set(conj_splitter_re.split(phi))\n",
    "\n",
    "\n",
    "def variable_change(phi, sourcevar, targetvar, flag=\"000000\"):\n",
    "    replace_re = re.compile(rf\"\\b{sourcevar}\\b\")\n",
    "    return replace_re.sub(f\"{flag}{targetvar}\", phi)\n"
   ]
  },
  {
   "cell_type": "code",
   "execution_count": 236,
   "id": "21f6d128",
   "metadata": {},
   "outputs": [],
   "source": [
    "import pandas as pd\n",
    "SRC_DIRNAME = \"data\"\n",
    "\n",
    "def load_split(filename):\n",
    "    return pd.read_csv(\n",
    "        filename,\n",
    "        delimiter=\"\\t\",\n",
    "        names=['input', 'output', 'category'])\n",
    "\n",
    "dataset = {}\n",
    "\n",
    "for splitname in (\"RECOGStrain\", \"RECOGSdev\", \"RECOGSgen\"):\n",
    "    dataset[splitname] = load_split(f\"{SRC_DIRNAME}/{splitname}.tsv\")"
   ]
  },
  {
   "cell_type": "code",
   "execution_count": 237,
   "id": "89007c16",
   "metadata": {},
   "outputs": [
    {
     "name": "stdout",
     "output_type": "stream",
     "text": [
      "Zoe thought that a hippo cleaned .\n",
      "Zoe ( 10 ) ; hippo ( 36 ) ; think ( 3 ) AND agent ( 3 , 10 ) AND ccomp ( 3 , 44 ) AND clean ( 44 ) AND agent ( 44 , 36 )\n"
     ]
    }
   ],
   "source": [
    "test_sentence = dataset[\"RECOGSgen\"][\"input\"].tolist()[1]\n",
    "print (test_sentence)\n",
    "\n",
    "gold_Label = dataset[\"RECOGSgen\"][\"output\"].tolist()[1]\n",
    "print (gold_Label)"
   ]
  },
  {
   "cell_type": "code",
   "execution_count": 238,
   "id": "bf28d2a7",
   "metadata": {},
   "outputs": [],
   "source": [
    "dspy_recogs_train = [\n",
    "    dspy.Example(\n",
    "        sentence=row['input'], logical_form=row['output']\n",
    "    ).with_inputs(\"sentence\")\n",
    "    for _, row in dataset['RECOGStrain'].iterrows()]\n",
    "\n",
    "dspy_recogs_dev = [\n",
    "    dspy.Example(\n",
    "        sentence=row['input'], logical_form=row['output']\n",
    "    ).with_inputs(\"sentence\")\n",
    "    for _, row in dataset['RECOGSdev'].iterrows()]\n",
    "    "
   ]
  },
  {
   "cell_type": "code",
   "execution_count": 239,
   "id": "75597f5b",
   "metadata": {},
   "outputs": [],
   "source": [
    "from datasets import load_dataset\n",
    "import openai\n",
    "import os\n",
    "import dspy\n",
    "from dotenv import load_dotenv\n",
    "import spacy\n",
    "\n",
    "root_path = '.'\n",
    "os.environ[\"DSP_NOTEBOOK_CACHEDIR\"] = os.path.join(root_path, 'cache')\n",
    "# keep the API keys in a `.env` file in the local root directory\n",
    "load_dotenv()\n",
    "openai_key = os.getenv('OPENAI_API_KEY')  # use the .env file as it is a good practice to keep keys outside of one's code"
   ]
  },
  {
   "cell_type": "code",
   "execution_count": 240,
   "id": "29d132a4",
   "metadata": {},
   "outputs": [],
   "source": [
    "lm = dspy.OpenAI(model='gpt-3.5-turbo', api_key=openai_key)\n",
    "dspy.settings.configure(lm=lm)"
   ]
  },
  {
   "cell_type": "code",
   "execution_count": 241,
   "id": "50c43b9d",
   "metadata": {},
   "outputs": [],
   "source": [
    "class HierarchyParse(dspy.Signature):\n",
    "    __doc__ = \"\"\"Parse a sentence into a hierarchy of phrases.\"\"\"\n",
    "    sentence = dspy.InputField(desc=\"a sentence to parse\")\n",
    "    hierarchy = dspy.OutputField(desc=\"propose a hierarchy of phrases in the sentence; the hierarchy is marked by opening and closing brackets for each chunk and can be nested; the output should be a string\")\n",
    "\n",
    "class ReCOGS(dspy.Signature):\n",
    "    __doc__ = \"\"\"Given a sentence hierarchy, convert it to a ReCOGS logical form\"\"\"\n",
    "    hierarchy = dspy.InputField(desc=\"a hierarchy of phrases in the sentence\")\n",
    "    logical_form = dspy.OutputField(desc=\"the ReCOGS logical form of the sentence hierarchy. the output should be a string\")\n",
    "\n",
    "class BasicParse(dspy.Module):\n",
    "    def __init__(self):\n",
    "        super().__init__()\n",
    "        self.parse = dspy.Predict(HierarchyParse)\n",
    "        self.generaterecogs = dspy.Predict(ReCOGS)\n",
    "\n",
    "    def forward(self, sentence):\n",
    "        hierarchy = self.parse(sentence=sentence).hierarchy\n",
    "        return self.generaterecogs(hierarchy=hierarchy)"
   ]
  },
  {
   "cell_type": "code",
   "execution_count": null,
   "id": "c4569960",
   "metadata": {},
   "outputs": [],
   "source": []
  },
  {
   "cell_type": "code",
   "execution_count": 242,
   "id": "d73695d7",
   "metadata": {},
   "outputs": [
    {
     "name": "stderr",
     "output_type": "stream",
     "text": [
      "  0%|          | 0/24155 [00:00<?, ?it/s]ERROR:dspy.teleprompt.bootstrap:\u001b[2m2025-05-02T04:53:30.595439Z\u001b[0m [\u001b[31m\u001b[1merror    \u001b[0m] \u001b[1mFailed to run or to evaluate example Example({'sentence': 'A rose was helped by a dog .', 'logical_form': 'rose ( 1 ) ; dog ( 36 ) ; help ( 40 ) AND theme ( 40 , 1 ) AND agent ( 40 , 36 )'}) (input_keys={'sentence'}) with <function recogs_exact_match at 0x16a1b3160> due to replace() argument 1 must be str, not list.\u001b[0m [\u001b[0m\u001b[1m\u001b[34mdspy.teleprompt.bootstrap\u001b[0m]\u001b[0m \u001b[36mfilename\u001b[0m=\u001b[35mbootstrap.py\u001b[0m \u001b[36mlineno\u001b[0m=\u001b[35m211\u001b[0m\n",
      "ERROR:dspy.teleprompt.bootstrap:\u001b[2m2025-05-02T04:53:30.599886Z\u001b[0m [\u001b[31m\u001b[1merror    \u001b[0m] \u001b[1mFailed to run or to evaluate example Example({'sentence': 'The sailor dusted a boy .', 'logical_form': '* sailor ( 0 ) ; boy ( 53 ) ; dust ( 4 ) AND agent ( 4 , 0 ) AND theme ( 4 , 53 )'}) (input_keys={'sentence'}) with <function recogs_exact_match at 0x16a1b3160> due to replace() argument 1 must be str, not list.\u001b[0m [\u001b[0m\u001b[1m\u001b[34mdspy.teleprompt.bootstrap\u001b[0m]\u001b[0m \u001b[36mfilename\u001b[0m=\u001b[35mbootstrap.py\u001b[0m \u001b[36mlineno\u001b[0m=\u001b[35m211\u001b[0m\n",
      "ERROR:dspy.teleprompt.bootstrap:\u001b[2m2025-05-02T04:53:30.601671Z\u001b[0m [\u001b[31m\u001b[1merror    \u001b[0m] \u001b[1mFailed to run or to evaluate example Example({'sentence': 'Evelyn rolled the girl .', 'logical_form': 'Evelyn ( 54 ) ; * girl ( 14 ) ; roll ( 31 ) AND agent ( 31 , 54 ) AND theme ( 31 , 14 )'}) (input_keys={'sentence'}) with <function recogs_exact_match at 0x16a1b3160> due to replace() argument 1 must be str, not list.\u001b[0m [\u001b[0m\u001b[1m\u001b[34mdspy.teleprompt.bootstrap\u001b[0m]\u001b[0m \u001b[36mfilename\u001b[0m=\u001b[35mbootstrap.py\u001b[0m \u001b[36mlineno\u001b[0m=\u001b[35m211\u001b[0m\n",
      "ERROR:dspy.teleprompt.bootstrap:\u001b[2m2025-05-02T04:53:30.604142Z\u001b[0m [\u001b[31m\u001b[1merror    \u001b[0m] \u001b[1mFailed to run or to evaluate example Example({'sentence': 'A cake was forwarded to Levi by Charlotte .', 'logical_form': 'cake ( 49 ) ; Levi ( 7 ) ; Charlotte ( 15 ) ; forward ( 11 ) AND theme ( 11 , 49 ) AND recipient ( 11 , 7 ) AND agent ( 11 , 15 )'}) (input_keys={'sentence'}) with <function recogs_exact_match at 0x16a1b3160> due to replace() argument 1 must be str, not list.\u001b[0m [\u001b[0m\u001b[1m\u001b[34mdspy.teleprompt.bootstrap\u001b[0m]\u001b[0m \u001b[36mfilename\u001b[0m=\u001b[35mbootstrap.py\u001b[0m \u001b[36mlineno\u001b[0m=\u001b[35m211\u001b[0m\n",
      "  0%|          | 5/24155 [00:00<01:11, 339.38it/s]"
     ]
    },
    {
     "name": "stdout",
     "output_type": "stream",
     "text": [
      "rose ( 1 ) ; dog ( 36 ) ; help ( 40 ) AND theme ( 40 , 1 ) AND agent ( 40 , 36 )\n",
      "rose ( 1 ) ; dog ( 2 ) ; help ( 3 ) AND theme ( 3 , 1 ) AND agent ( 3 , 2 )\n",
      "here!\n",
      "now here!\n",
      "* sailor ( 0 ) ; boy ( 53 ) ; dust ( 4 ) AND agent ( 4 , 0 ) AND theme ( 4 , 53 )\n",
      "* sailor ( 12 ) ; dust ( 23 ) ; boy ( 45 ) AND agent ( 23 , 12 ) AND theme ( 23 , 45 )\n",
      "here!\n",
      "now here!\n",
      "Emma ( 27 ) ; teacher ( 6 ) ; roll ( 26 ) AND agent ( 26 , 27 ) AND theme ( 26 , 6 )\n",
      "Emma ( 21 ) ; roll ( 34 ) AND agent ( 34 , 21 ) AND theme ( 34 , 40 ) AND recipient ( 34 , 40 )\n",
      "here!\n",
      "Evelyn ( 54 ) ; * girl ( 14 ) ; roll ( 31 ) AND agent ( 31 , 54 ) AND theme ( 31 , 14 )\n",
      "Evelyn ( 1 ) ; girl ( 2 ) ; roll ( 3 ) AND agent ( 3 , 1 ) AND theme ( 3 , 2 )\n",
      "here!\n",
      "now here!\n",
      "cake ( 49 ) ; Levi ( 7 ) ; Charlotte ( 15 ) ; forward ( 11 ) AND theme ( 11 , 49 ) AND recipient ( 11 , 7 ) AND agent ( 11 , 15 )\n",
      "* cake ( 3 ) ; forward ( 1 ) ; Levi ( 5 ) ; Charlotte ( 7 ) AND theme ( 1 , 3 ) AND recipient ( 1 , 5 ) AND agent ( 1 , 7 )\n",
      "here!\n",
      "now here!\n",
      "* captain ( 4 ) ; eat ( 18 ) AND agent ( 18 , 4 )\n",
      "* captain ( 47 ) ; eat ( 3 ) AND agent ( 3 , 47 )\n",
      "here!\n",
      "now here!\n"
     ]
    },
    {
     "name": "stderr",
     "output_type": "stream",
     "text": [
      "\n"
     ]
    },
    {
     "ename": "TypeError",
     "evalue": "replace() argument 1 must be str, not list",
     "output_type": "error",
     "traceback": [
      "\u001b[0;31m---------------------------------------------------------------------------\u001b[0m",
      "\u001b[0;31mTypeError\u001b[0m                                 Traceback (most recent call last)",
      "Cell \u001b[0;32mIn[242], line 4\u001b[0m\n\u001b[1;32m      1\u001b[0m \u001b[38;5;28;01mfrom\u001b[39;00m \u001b[38;5;21;01mdspy\u001b[39;00m\u001b[38;5;21;01m.\u001b[39;00m\u001b[38;5;21;01mteleprompt\u001b[39;00m \u001b[38;5;28;01mimport\u001b[39;00m BootstrapFewShot, LabeledFewShot, BootstrapFewShotWithRandomSearch\n\u001b[1;32m      3\u001b[0m fewshot_optimizer \u001b[38;5;241m=\u001b[39m BootstrapFewShot(metric\u001b[38;5;241m=\u001b[39mrecogs_exact_match)\n\u001b[0;32m----> 4\u001b[0m compiled \u001b[38;5;241m=\u001b[39m \u001b[43mfewshot_optimizer\u001b[49m\u001b[38;5;241;43m.\u001b[39;49m\u001b[43mcompile\u001b[49m\u001b[43m(\u001b[49m\u001b[43mstudent\u001b[49m\u001b[43m \u001b[49m\u001b[38;5;241;43m=\u001b[39;49m\u001b[43m \u001b[49m\u001b[43mBasicParse\u001b[49m\u001b[43m(\u001b[49m\u001b[43m)\u001b[49m\u001b[43m,\u001b[49m\u001b[43m \u001b[49m\u001b[43mtrainset\u001b[49m\u001b[38;5;241;43m=\u001b[39;49m\u001b[43mdspy_recogs_train\u001b[49m\u001b[43m)\u001b[49m\n",
      "File \u001b[0;32m/opt/miniconda3/envs/nlu/lib/python3.9/site-packages/dspy/teleprompt/bootstrap.py:84\u001b[0m, in \u001b[0;36mBootstrapFewShot.compile\u001b[0;34m(self, student, teacher, trainset)\u001b[0m\n\u001b[1;32m     82\u001b[0m \u001b[38;5;28mself\u001b[39m\u001b[38;5;241m.\u001b[39m_prepare_student_and_teacher(student, teacher)\n\u001b[1;32m     83\u001b[0m \u001b[38;5;28mself\u001b[39m\u001b[38;5;241m.\u001b[39m_prepare_predictor_mappings()\n\u001b[0;32m---> 84\u001b[0m \u001b[38;5;28;43mself\u001b[39;49m\u001b[38;5;241;43m.\u001b[39;49m\u001b[43m_bootstrap\u001b[49m\u001b[43m(\u001b[49m\u001b[43m)\u001b[49m\n\u001b[1;32m     86\u001b[0m \u001b[38;5;28mself\u001b[39m\u001b[38;5;241m.\u001b[39mstudent \u001b[38;5;241m=\u001b[39m \u001b[38;5;28mself\u001b[39m\u001b[38;5;241m.\u001b[39m_train()\n\u001b[1;32m     87\u001b[0m \u001b[38;5;28mself\u001b[39m\u001b[38;5;241m.\u001b[39mstudent\u001b[38;5;241m.\u001b[39m_compiled \u001b[38;5;241m=\u001b[39m \u001b[38;5;28;01mTrue\u001b[39;00m\n",
      "File \u001b[0;32m/opt/miniconda3/envs/nlu/lib/python3.9/site-packages/dspy/teleprompt/bootstrap.py:154\u001b[0m, in \u001b[0;36mBootstrapFewShot._bootstrap\u001b[0;34m(self, max_bootstraps)\u001b[0m\n\u001b[1;32m    151\u001b[0m     \u001b[38;5;28;01mbreak\u001b[39;00m\n\u001b[1;32m    153\u001b[0m \u001b[38;5;28;01mif\u001b[39;00m example_idx \u001b[38;5;129;01mnot\u001b[39;00m \u001b[38;5;129;01min\u001b[39;00m bootstrapped:\n\u001b[0;32m--> 154\u001b[0m     success \u001b[38;5;241m=\u001b[39m \u001b[38;5;28;43mself\u001b[39;49m\u001b[38;5;241;43m.\u001b[39;49m\u001b[43m_bootstrap_one_example\u001b[49m\u001b[43m(\u001b[49m\u001b[43mexample\u001b[49m\u001b[43m,\u001b[49m\u001b[43m \u001b[49m\u001b[43mround_idx\u001b[49m\u001b[43m)\u001b[49m\n\u001b[1;32m    156\u001b[0m     \u001b[38;5;28;01mif\u001b[39;00m success:\n\u001b[1;32m    157\u001b[0m         bootstrapped[example_idx] \u001b[38;5;241m=\u001b[39m \u001b[38;5;28;01mTrue\u001b[39;00m\n",
      "File \u001b[0;32m/opt/miniconda3/envs/nlu/lib/python3.9/site-packages/dspy/teleprompt/bootstrap.py:210\u001b[0m, in \u001b[0;36mBootstrapFewShot._bootstrap_one_example\u001b[0;34m(self, example, round_idx)\u001b[0m\n\u001b[1;32m    208\u001b[0m         current_error_count \u001b[38;5;241m=\u001b[39m \u001b[38;5;28mself\u001b[39m\u001b[38;5;241m.\u001b[39merror_count\n\u001b[1;32m    209\u001b[0m     \u001b[38;5;28;01mif\u001b[39;00m current_error_count \u001b[38;5;241m>\u001b[39m\u001b[38;5;241m=\u001b[39m \u001b[38;5;28mself\u001b[39m\u001b[38;5;241m.\u001b[39mmax_errors:\n\u001b[0;32m--> 210\u001b[0m         \u001b[38;5;28;01mraise\u001b[39;00m e\n\u001b[1;32m    211\u001b[0m     dspy\u001b[38;5;241m.\u001b[39mlogger\u001b[38;5;241m.\u001b[39merror(\u001b[38;5;124mf\u001b[39m\u001b[38;5;124m\"\u001b[39m\u001b[38;5;124mFailed to run or to evaluate example \u001b[39m\u001b[38;5;132;01m{\u001b[39;00mexample\u001b[38;5;132;01m}\u001b[39;00m\u001b[38;5;124m with \u001b[39m\u001b[38;5;132;01m{\u001b[39;00m\u001b[38;5;28mself\u001b[39m\u001b[38;5;241m.\u001b[39mmetric\u001b[38;5;132;01m}\u001b[39;00m\u001b[38;5;124m due to \u001b[39m\u001b[38;5;132;01m{\u001b[39;00me\u001b[38;5;132;01m}\u001b[39;00m\u001b[38;5;124m.\u001b[39m\u001b[38;5;124m\"\u001b[39m)\n\u001b[1;32m    213\u001b[0m \u001b[38;5;28;01mif\u001b[39;00m success:\n",
      "File \u001b[0;32m/opt/miniconda3/envs/nlu/lib/python3.9/site-packages/dspy/teleprompt/bootstrap.py:197\u001b[0m, in \u001b[0;36mBootstrapFewShot._bootstrap_one_example\u001b[0;34m(self, example, round_idx)\u001b[0m\n\u001b[1;32m    194\u001b[0m         predictor\u001b[38;5;241m.\u001b[39mdemos \u001b[38;5;241m=\u001b[39m predictor_cache[name]\n\u001b[1;32m    196\u001b[0m \u001b[38;5;28;01mif\u001b[39;00m \u001b[38;5;28mself\u001b[39m\u001b[38;5;241m.\u001b[39mmetric:\n\u001b[0;32m--> 197\u001b[0m     metric_val \u001b[38;5;241m=\u001b[39m \u001b[38;5;28;43mself\u001b[39;49m\u001b[38;5;241;43m.\u001b[39;49m\u001b[43mmetric\u001b[49m\u001b[43m(\u001b[49m\u001b[43mexample\u001b[49m\u001b[43m,\u001b[49m\u001b[43m \u001b[49m\u001b[43mprediction\u001b[49m\u001b[43m,\u001b[49m\u001b[43m \u001b[49m\u001b[43mtrace\u001b[49m\u001b[43m)\u001b[49m\n\u001b[1;32m    198\u001b[0m     \u001b[38;5;28;01mif\u001b[39;00m \u001b[38;5;28mself\u001b[39m\u001b[38;5;241m.\u001b[39mmetric_threshold:\n\u001b[1;32m    199\u001b[0m         success \u001b[38;5;241m=\u001b[39m metric_val \u001b[38;5;241m>\u001b[39m\u001b[38;5;241m=\u001b[39m \u001b[38;5;28mself\u001b[39m\u001b[38;5;241m.\u001b[39mmetric_threshold\n",
      "Cell \u001b[0;32mIn[235], line 23\u001b[0m, in \u001b[0;36mrecogs_exact_match\u001b[0;34m(gold, pred, flag)\u001b[0m\n\u001b[1;32m     21\u001b[0m     phi \u001b[38;5;241m=\u001b[39m variable_change(phi, sourcevar, targetvar, flag\u001b[38;5;241m=\u001b[39mflag)\n\u001b[1;32m     22\u001b[0m \u001b[38;5;28mprint\u001b[39m (\u001b[38;5;124m'\u001b[39m\u001b[38;5;124mnow here!\u001b[39m\u001b[38;5;124m'\u001b[39m)\n\u001b[0;32m---> 23\u001b[0m phi \u001b[38;5;241m=\u001b[39m \u001b[43mphi\u001b[49m\u001b[38;5;241;43m.\u001b[39;49m\u001b[43mreplace\u001b[49m\u001b[43m(\u001b[49m\u001b[43mflag\u001b[49m\u001b[43m,\u001b[49m\u001b[43m \u001b[49m\u001b[38;5;124;43m\"\u001b[39;49m\u001b[38;5;124;43m\"\u001b[39;49m\u001b[43m)\u001b[49m\n\u001b[1;32m     24\u001b[0m phi_conj_set \u001b[38;5;241m=\u001b[39m get_conj_set(phi)\n\u001b[1;32m     25\u001b[0m \u001b[38;5;66;03m# This step assumes that we have no conjuncts that are\u001b[39;00m\n\u001b[1;32m     26\u001b[0m \u001b[38;5;66;03m# tautologies, contradictions, or equality predications. If\u001b[39;00m\n\u001b[1;32m     27\u001b[0m \u001b[38;5;66;03m# such are introduced, they need to be identified ahead of\u001b[39;00m\n\u001b[0;32m   (...)\u001b[0m\n\u001b[1;32m     30\u001b[0m \u001b[38;5;66;03m# conjuncts, and equality statements would call for special\u001b[39;00m\n\u001b[1;32m     31\u001b[0m \u001b[38;5;66;03m# handling related to variables mapping.\u001b[39;00m\n",
      "\u001b[0;31mTypeError\u001b[0m: replace() argument 1 must be str, not list"
     ]
    }
   ],
   "source": [
    "from dspy.teleprompt import BootstrapFewShot, LabeledFewShot, BootstrapFewShotWithRandomSearch\n",
    "\n",
    "fewshot_optimizer = BootstrapFewShot(metric=recogs_exact_match)\n",
    "compiled = fewshot_optimizer.compile(student = BasicParse(), trainset=dspy_recogs_train)"
   ]
  },
  {
   "cell_type": "code",
   "execution_count": 246,
   "id": "05150524",
   "metadata": {},
   "outputs": [],
   "source": [
    "ssamp = dataset['RECOGSgen'].head(10)"
   ]
  },
  {
   "cell_type": "code",
   "execution_count": 247,
   "id": "e553d722",
   "metadata": {},
   "outputs": [
    {
     "name": "stderr",
     "output_type": "stream",
     "text": [
      "/var/folders/fj/xg76xwss6l5fdfl9rhhs_c9h0000gn/T/ipykernel_21516/4133771521.py:1: SettingWithCopyWarning: \n",
      "A value is trying to be set on a copy of a slice from a DataFrame.\n",
      "Try using .loc[row_indexer,col_indexer] = value instead\n",
      "\n",
      "See the caveats in the documentation: https://pandas.pydata.org/pandas-docs/stable/user_guide/indexing.html#returning-a-view-versus-a-copy\n",
      "  ssamp['prediction'] = ssamp.input.apply(\n"
     ]
    },
    {
     "ename": "AttributeError",
     "evalue": "'str' object has no attribute 'logical_form'",
     "output_type": "error",
     "traceback": [
      "\u001b[0;31m---------------------------------------------------------------------------\u001b[0m",
      "\u001b[0;31mAttributeError\u001b[0m                            Traceback (most recent call last)",
      "Cell \u001b[0;32mIn[247], line 3\u001b[0m\n\u001b[1;32m      1\u001b[0m ssamp[\u001b[38;5;124m'\u001b[39m\u001b[38;5;124mprediction\u001b[39m\u001b[38;5;124m'\u001b[39m] \u001b[38;5;241m=\u001b[39m ssamp\u001b[38;5;241m.\u001b[39minput\u001b[38;5;241m.\u001b[39mapply(\n\u001b[1;32m      2\u001b[0m     \u001b[38;5;28;01mlambda\u001b[39;00m x: compiled(sentence\u001b[38;5;241m=\u001b[39mx))\n\u001b[0;32m----> 3\u001b[0m ssamp[\u001b[38;5;124m'\u001b[39m\u001b[38;5;124mcorrect\u001b[39m\u001b[38;5;124m'\u001b[39m] \u001b[38;5;241m=\u001b[39m \u001b[43mssamp\u001b[49m\u001b[38;5;241;43m.\u001b[39;49m\u001b[43mapply\u001b[49m\u001b[43m(\u001b[49m\n\u001b[1;32m      4\u001b[0m \u001b[43m    \u001b[49m\u001b[38;5;28;43;01mlambda\u001b[39;49;00m\u001b[43m \u001b[49m\u001b[43mrow\u001b[49m\u001b[43m:\u001b[49m\u001b[43m \u001b[49m\u001b[43mrecogs_exact_match\u001b[49m\u001b[43m(\u001b[49m\u001b[43mrow\u001b[49m\u001b[43m[\u001b[49m\u001b[38;5;124;43m'\u001b[39;49m\u001b[38;5;124;43moutput\u001b[39;49m\u001b[38;5;124;43m'\u001b[39;49m\u001b[43m]\u001b[49m\u001b[43m,\u001b[49m\u001b[43m \u001b[49m\u001b[43mrow\u001b[49m\u001b[43m[\u001b[49m\u001b[38;5;124;43m'\u001b[39;49m\u001b[38;5;124;43mprediction\u001b[39;49m\u001b[38;5;124;43m'\u001b[39;49m\u001b[43m]\u001b[49m\u001b[43m)\u001b[49m\u001b[43m,\u001b[49m\u001b[43m \u001b[49m\u001b[43maxis\u001b[49m\u001b[38;5;241;43m=\u001b[39;49m\u001b[38;5;241;43m1\u001b[39;49m\u001b[43m)\u001b[49m  \n\u001b[1;32m      5\u001b[0m ssamp[\u001b[38;5;124m'\u001b[39m\u001b[38;5;124mcorrect\u001b[39m\u001b[38;5;124m'\u001b[39m]\u001b[38;5;241m.\u001b[39msum() \u001b[38;5;241m/\u001b[39m ssamp\u001b[38;5;241m.\u001b[39mshape[\u001b[38;5;241m0\u001b[39m]\n",
      "File \u001b[0;32m/opt/miniconda3/envs/nlu/lib/python3.9/site-packages/pandas/core/frame.py:10374\u001b[0m, in \u001b[0;36mDataFrame.apply\u001b[0;34m(self, func, axis, raw, result_type, args, by_row, engine, engine_kwargs, **kwargs)\u001b[0m\n\u001b[1;32m  10360\u001b[0m \u001b[38;5;28;01mfrom\u001b[39;00m \u001b[38;5;21;01mpandas\u001b[39;00m\u001b[38;5;21;01m.\u001b[39;00m\u001b[38;5;21;01mcore\u001b[39;00m\u001b[38;5;21;01m.\u001b[39;00m\u001b[38;5;21;01mapply\u001b[39;00m \u001b[38;5;28;01mimport\u001b[39;00m frame_apply\n\u001b[1;32m  10362\u001b[0m op \u001b[38;5;241m=\u001b[39m frame_apply(\n\u001b[1;32m  10363\u001b[0m     \u001b[38;5;28mself\u001b[39m,\n\u001b[1;32m  10364\u001b[0m     func\u001b[38;5;241m=\u001b[39mfunc,\n\u001b[0;32m   (...)\u001b[0m\n\u001b[1;32m  10372\u001b[0m     kwargs\u001b[38;5;241m=\u001b[39mkwargs,\n\u001b[1;32m  10373\u001b[0m )\n\u001b[0;32m> 10374\u001b[0m \u001b[38;5;28;01mreturn\u001b[39;00m \u001b[43mop\u001b[49m\u001b[38;5;241;43m.\u001b[39;49m\u001b[43mapply\u001b[49m\u001b[43m(\u001b[49m\u001b[43m)\u001b[49m\u001b[38;5;241m.\u001b[39m__finalize__(\u001b[38;5;28mself\u001b[39m, method\u001b[38;5;241m=\u001b[39m\u001b[38;5;124m\"\u001b[39m\u001b[38;5;124mapply\u001b[39m\u001b[38;5;124m\"\u001b[39m)\n",
      "File \u001b[0;32m/opt/miniconda3/envs/nlu/lib/python3.9/site-packages/pandas/core/apply.py:916\u001b[0m, in \u001b[0;36mFrameApply.apply\u001b[0;34m(self)\u001b[0m\n\u001b[1;32m    913\u001b[0m \u001b[38;5;28;01melif\u001b[39;00m \u001b[38;5;28mself\u001b[39m\u001b[38;5;241m.\u001b[39mraw:\n\u001b[1;32m    914\u001b[0m     \u001b[38;5;28;01mreturn\u001b[39;00m \u001b[38;5;28mself\u001b[39m\u001b[38;5;241m.\u001b[39mapply_raw(engine\u001b[38;5;241m=\u001b[39m\u001b[38;5;28mself\u001b[39m\u001b[38;5;241m.\u001b[39mengine, engine_kwargs\u001b[38;5;241m=\u001b[39m\u001b[38;5;28mself\u001b[39m\u001b[38;5;241m.\u001b[39mengine_kwargs)\n\u001b[0;32m--> 916\u001b[0m \u001b[38;5;28;01mreturn\u001b[39;00m \u001b[38;5;28;43mself\u001b[39;49m\u001b[38;5;241;43m.\u001b[39;49m\u001b[43mapply_standard\u001b[49m\u001b[43m(\u001b[49m\u001b[43m)\u001b[49m\n",
      "File \u001b[0;32m/opt/miniconda3/envs/nlu/lib/python3.9/site-packages/pandas/core/apply.py:1063\u001b[0m, in \u001b[0;36mFrameApply.apply_standard\u001b[0;34m(self)\u001b[0m\n\u001b[1;32m   1061\u001b[0m \u001b[38;5;28;01mdef\u001b[39;00m \u001b[38;5;21mapply_standard\u001b[39m(\u001b[38;5;28mself\u001b[39m):\n\u001b[1;32m   1062\u001b[0m     \u001b[38;5;28;01mif\u001b[39;00m \u001b[38;5;28mself\u001b[39m\u001b[38;5;241m.\u001b[39mengine \u001b[38;5;241m==\u001b[39m \u001b[38;5;124m\"\u001b[39m\u001b[38;5;124mpython\u001b[39m\u001b[38;5;124m\"\u001b[39m:\n\u001b[0;32m-> 1063\u001b[0m         results, res_index \u001b[38;5;241m=\u001b[39m \u001b[38;5;28;43mself\u001b[39;49m\u001b[38;5;241;43m.\u001b[39;49m\u001b[43mapply_series_generator\u001b[49m\u001b[43m(\u001b[49m\u001b[43m)\u001b[49m\n\u001b[1;32m   1064\u001b[0m     \u001b[38;5;28;01melse\u001b[39;00m:\n\u001b[1;32m   1065\u001b[0m         results, res_index \u001b[38;5;241m=\u001b[39m \u001b[38;5;28mself\u001b[39m\u001b[38;5;241m.\u001b[39mapply_series_numba()\n",
      "File \u001b[0;32m/opt/miniconda3/envs/nlu/lib/python3.9/site-packages/pandas/core/apply.py:1081\u001b[0m, in \u001b[0;36mFrameApply.apply_series_generator\u001b[0;34m(self)\u001b[0m\n\u001b[1;32m   1078\u001b[0m \u001b[38;5;28;01mwith\u001b[39;00m option_context(\u001b[38;5;124m\"\u001b[39m\u001b[38;5;124mmode.chained_assignment\u001b[39m\u001b[38;5;124m\"\u001b[39m, \u001b[38;5;28;01mNone\u001b[39;00m):\n\u001b[1;32m   1079\u001b[0m     \u001b[38;5;28;01mfor\u001b[39;00m i, v \u001b[38;5;129;01min\u001b[39;00m \u001b[38;5;28menumerate\u001b[39m(series_gen):\n\u001b[1;32m   1080\u001b[0m         \u001b[38;5;66;03m# ignore SettingWithCopy here in case the user mutates\u001b[39;00m\n\u001b[0;32m-> 1081\u001b[0m         results[i] \u001b[38;5;241m=\u001b[39m \u001b[38;5;28;43mself\u001b[39;49m\u001b[38;5;241;43m.\u001b[39;49m\u001b[43mfunc\u001b[49m\u001b[43m(\u001b[49m\u001b[43mv\u001b[49m\u001b[43m,\u001b[49m\u001b[43m \u001b[49m\u001b[38;5;241;43m*\u001b[39;49m\u001b[38;5;28;43mself\u001b[39;49m\u001b[38;5;241;43m.\u001b[39;49m\u001b[43margs\u001b[49m\u001b[43m,\u001b[49m\u001b[43m \u001b[49m\u001b[38;5;241;43m*\u001b[39;49m\u001b[38;5;241;43m*\u001b[39;49m\u001b[38;5;28;43mself\u001b[39;49m\u001b[38;5;241;43m.\u001b[39;49m\u001b[43mkwargs\u001b[49m\u001b[43m)\u001b[49m\n\u001b[1;32m   1082\u001b[0m         \u001b[38;5;28;01mif\u001b[39;00m \u001b[38;5;28misinstance\u001b[39m(results[i], ABCSeries):\n\u001b[1;32m   1083\u001b[0m             \u001b[38;5;66;03m# If we have a view on v, we need to make a copy because\u001b[39;00m\n\u001b[1;32m   1084\u001b[0m             \u001b[38;5;66;03m#  series_generator will swap out the underlying data\u001b[39;00m\n\u001b[1;32m   1085\u001b[0m             results[i] \u001b[38;5;241m=\u001b[39m results[i]\u001b[38;5;241m.\u001b[39mcopy(deep\u001b[38;5;241m=\u001b[39m\u001b[38;5;28;01mFalse\u001b[39;00m)\n",
      "Cell \u001b[0;32mIn[247], line 4\u001b[0m, in \u001b[0;36m<lambda>\u001b[0;34m(row)\u001b[0m\n\u001b[1;32m      1\u001b[0m ssamp[\u001b[38;5;124m'\u001b[39m\u001b[38;5;124mprediction\u001b[39m\u001b[38;5;124m'\u001b[39m] \u001b[38;5;241m=\u001b[39m ssamp\u001b[38;5;241m.\u001b[39minput\u001b[38;5;241m.\u001b[39mapply(\n\u001b[1;32m      2\u001b[0m     \u001b[38;5;28;01mlambda\u001b[39;00m x: compiled(sentence\u001b[38;5;241m=\u001b[39mx))\n\u001b[1;32m      3\u001b[0m ssamp[\u001b[38;5;124m'\u001b[39m\u001b[38;5;124mcorrect\u001b[39m\u001b[38;5;124m'\u001b[39m] \u001b[38;5;241m=\u001b[39m ssamp\u001b[38;5;241m.\u001b[39mapply(\n\u001b[0;32m----> 4\u001b[0m     \u001b[38;5;28;01mlambda\u001b[39;00m row: \u001b[43mrecogs_exact_match\u001b[49m\u001b[43m(\u001b[49m\u001b[43mrow\u001b[49m\u001b[43m[\u001b[49m\u001b[38;5;124;43m'\u001b[39;49m\u001b[38;5;124;43moutput\u001b[39;49m\u001b[38;5;124;43m'\u001b[39;49m\u001b[43m]\u001b[49m\u001b[43m,\u001b[49m\u001b[43m \u001b[49m\u001b[43mrow\u001b[49m\u001b[43m[\u001b[49m\u001b[38;5;124;43m'\u001b[39;49m\u001b[38;5;124;43mprediction\u001b[39;49m\u001b[38;5;124;43m'\u001b[39;49m\u001b[43m]\u001b[49m\u001b[43m)\u001b[49m, axis\u001b[38;5;241m=\u001b[39m\u001b[38;5;241m1\u001b[39m)  \n\u001b[1;32m      5\u001b[0m ssamp[\u001b[38;5;124m'\u001b[39m\u001b[38;5;124mcorrect\u001b[39m\u001b[38;5;124m'\u001b[39m]\u001b[38;5;241m.\u001b[39msum() \u001b[38;5;241m/\u001b[39m ssamp\u001b[38;5;241m.\u001b[39mshape[\u001b[38;5;241m0\u001b[39m]\n",
      "Cell \u001b[0;32mIn[235], line 8\u001b[0m, in \u001b[0;36mrecogs_exact_match\u001b[0;34m(gold, pred, flag)\u001b[0m\n\u001b[1;32m      7\u001b[0m \u001b[38;5;28;01mdef\u001b[39;00m \u001b[38;5;21mrecogs_exact_match\u001b[39m(gold, pred, flag\u001b[38;5;241m=\u001b[39m\u001b[38;5;124m\"\u001b[39m\u001b[38;5;124m000000\u001b[39m\u001b[38;5;124m\"\u001b[39m):\n\u001b[0;32m----> 8\u001b[0m     \u001b[38;5;28mprint\u001b[39m (\u001b[43mgold\u001b[49m\u001b[38;5;241;43m.\u001b[39;49m\u001b[43mlogical_form\u001b[49m)\n\u001b[1;32m      9\u001b[0m     \u001b[38;5;28mprint\u001b[39m (pred\u001b[38;5;241m.\u001b[39mlogical_form)\n\u001b[1;32m     10\u001b[0m     gold \u001b[38;5;241m=\u001b[39m normalize_formula(gold\u001b[38;5;241m.\u001b[39mlogical_form)\n",
      "\u001b[0;31mAttributeError\u001b[0m: 'str' object has no attribute 'logical_form'"
     ]
    }
   ],
   "source": [
    "ssamp['prediction'] = ssamp.input.apply(\n",
    "    lambda x: compiled(sentence=x))\n",
    "ssamp['correct'] = ssamp.apply(\n",
    "    lambda row: recogs_exact_match(row['output'], row['prediction']), axis=1)  \n",
    "ssamp['correct'].sum() / ssamp.shape[0]      "
   ]
  },
  {
   "cell_type": "code",
   "execution_count": null,
   "id": "8bcd7b32",
   "metadata": {},
   "outputs": [],
   "source": []
  },
  {
   "cell_type": "code",
   "execution_count": null,
   "id": "098aff72",
   "metadata": {},
   "outputs": [],
   "source": []
  }
 ],
 "metadata": {
  "kernelspec": {
   "display_name": "nlu",
   "language": "python",
   "name": "python3"
  },
  "language_info": {
   "codemirror_mode": {
    "name": "ipython",
    "version": 3
   },
   "file_extension": ".py",
   "mimetype": "text/x-python",
   "name": "python",
   "nbconvert_exporter": "python",
   "pygments_lexer": "ipython3",
   "version": "3.9.21"
  }
 },
 "nbformat": 4,
 "nbformat_minor": 5
}
