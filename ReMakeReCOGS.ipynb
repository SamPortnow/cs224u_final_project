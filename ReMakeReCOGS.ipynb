{
 "cells": [
  {
   "cell_type": "markdown",
   "id": "a7561fa0",
   "metadata": {},
   "source": [
    "# Final Project: ReCOGS Parsing"
   ]
  },
  {
   "cell_type": "code",
   "execution_count": 174,
   "id": "6a924fa0",
   "metadata": {},
   "outputs": [],
   "source": [
    "__author__ = \"Sam Portnow\"\n",
    "__version__ = \"CS224u, Spring 2025\""
   ]
  },
  {
   "cell_type": "code",
   "execution_count": 465,
   "id": "cdf36025",
   "metadata": {},
   "outputs": [],
   "source": [
    "import pandas as pd\n",
    "import dspy\n",
    "from dotenv import load_dotenv\n",
    "import re\n",
    "from compgen import recogs_exact_match\n",
    "import numpy as np"
   ]
  },
  {
   "cell_type": "code",
   "execution_count": 200,
   "id": "a9d0c32a",
   "metadata": {},
   "outputs": [],
   "source": [
    "import os\n",
    "# keep the API keys in a `.env` file in the local root directory\n",
    "load_dotenv()\n",
    "openai_key = os.getenv('OPENAI_API_KEY')  # use the .env file as it is a good practice to keep keys outside of one's code\n"
   ]
  },
  {
   "cell_type": "markdown",
   "id": "ea5f5aae",
   "metadata": {},
   "source": [
    "Read in the ReCOGS training data."
   ]
  },
  {
   "cell_type": "code",
   "execution_count": 176,
   "id": "f0a1a73f",
   "metadata": {},
   "outputs": [],
   "source": [
    "train_set = pd.read_csv('./data/RECOGStrain.tsv', sep = '\\t', header = None)"
   ]
  },
  {
   "cell_type": "code",
   "execution_count": 177,
   "id": "1c894a63",
   "metadata": {},
   "outputs": [
    {
     "data": {
      "text/html": [
       "<div>\n",
       "<style scoped>\n",
       "    .dataframe tbody tr th:only-of-type {\n",
       "        vertical-align: middle;\n",
       "    }\n",
       "\n",
       "    .dataframe tbody tr th {\n",
       "        vertical-align: top;\n",
       "    }\n",
       "\n",
       "    .dataframe thead th {\n",
       "        text-align: right;\n",
       "    }\n",
       "</style>\n",
       "<table border=\"1\" class=\"dataframe\">\n",
       "  <thead>\n",
       "    <tr style=\"text-align: right;\">\n",
       "      <th></th>\n",
       "      <th>0</th>\n",
       "      <th>1</th>\n",
       "      <th>2</th>\n",
       "    </tr>\n",
       "  </thead>\n",
       "  <tbody>\n",
       "    <tr>\n",
       "      <th>0</th>\n",
       "      <td>A rose was helped by a dog .</td>\n",
       "      <td>rose ( 1 ) ; dog ( 36 ) ; help ( 40 ) AND them...</td>\n",
       "      <td>in_distribution</td>\n",
       "    </tr>\n",
       "    <tr>\n",
       "      <th>1</th>\n",
       "      <td>The sailor dusted a boy .</td>\n",
       "      <td>* sailor ( 0 ) ; boy ( 53 ) ; dust ( 4 ) AND a...</td>\n",
       "      <td>in_distribution</td>\n",
       "    </tr>\n",
       "    <tr>\n",
       "      <th>2</th>\n",
       "      <td>Emma rolled a teacher .</td>\n",
       "      <td>Emma ( 27 ) ; teacher ( 6 ) ; roll ( 26 ) AND ...</td>\n",
       "      <td>in_distribution</td>\n",
       "    </tr>\n",
       "    <tr>\n",
       "      <th>3</th>\n",
       "      <td>Evelyn rolled the girl .</td>\n",
       "      <td>Evelyn ( 54 ) ; * girl ( 14 ) ; roll ( 31 ) AN...</td>\n",
       "      <td>in_distribution</td>\n",
       "    </tr>\n",
       "    <tr>\n",
       "      <th>4</th>\n",
       "      <td>A cake was forwarded to Levi by Charlotte .</td>\n",
       "      <td>cake ( 49 ) ; Levi ( 7 ) ; Charlotte ( 15 ) ; ...</td>\n",
       "      <td>in_distribution</td>\n",
       "    </tr>\n",
       "  </tbody>\n",
       "</table>\n",
       "</div>"
      ],
      "text/plain": [
       "                                             0  \\\n",
       "0                 A rose was helped by a dog .   \n",
       "1                    The sailor dusted a boy .   \n",
       "2                      Emma rolled a teacher .   \n",
       "3                     Evelyn rolled the girl .   \n",
       "4  A cake was forwarded to Levi by Charlotte .   \n",
       "\n",
       "                                                   1                2  \n",
       "0  rose ( 1 ) ; dog ( 36 ) ; help ( 40 ) AND them...  in_distribution  \n",
       "1  * sailor ( 0 ) ; boy ( 53 ) ; dust ( 4 ) AND a...  in_distribution  \n",
       "2  Emma ( 27 ) ; teacher ( 6 ) ; roll ( 26 ) AND ...  in_distribution  \n",
       "3  Evelyn ( 54 ) ; * girl ( 14 ) ; roll ( 31 ) AN...  in_distribution  \n",
       "4  cake ( 49 ) ; Levi ( 7 ) ; Charlotte ( 15 ) ; ...  in_distribution  "
      ]
     },
     "execution_count": 177,
     "metadata": {},
     "output_type": "execute_result"
    }
   ],
   "source": [
    "train_set.head()"
   ]
  },
  {
   "cell_type": "markdown",
   "id": "ccfcc72d",
   "metadata": {},
   "source": [
    "Define a function to read in the vocab files from Baroni and Lake (2023)"
   ]
  },
  {
   "cell_type": "code",
   "execution_count": 178,
   "id": "37dd6a2f",
   "metadata": {},
   "outputs": [],
   "source": [
    "def read_file(filename):  \n",
    "    with open(filename) as fid:\n",
    "        words = fid.readlines()\n",
    "    words = [w.rstrip('\\n').strip() for w in words]\n",
    "    words = [w for w in words if len(w)>0]\n",
    "    return words"
   ]
  },
  {
   "cell_type": "markdown",
   "id": "918d32ac",
   "metadata": {},
   "source": [
    "There are common nouns, proper nouns, and verbs"
   ]
  },
  {
   "cell_type": "code",
   "execution_count": 179,
   "id": "66425437",
   "metadata": {},
   "outputs": [],
   "source": [
    "\n",
    "recogs_common = read_file('./COGS/vocab_common_nouns.txt')\n",
    "recogs_proper = read_file('./COGS/vocab_proper_nouns.txt')\n",
    "recogs_verb_dative =  read_file('./COGS/vocab_verbs_dative_input.txt')\n",
    "recogs_verb_inf =  read_file('./COGS/vocab_verbs_infinitive.txt')"
   ]
  },
  {
   "cell_type": "markdown",
   "id": "cd9621aa",
   "metadata": {},
   "source": [
    "Below I make a dictionrary that maps words to their randomly shufffled versions. This is ther permutate step of Baroni and Lake (2023)"
   ]
  },
  {
   "cell_type": "code",
   "execution_count": 180,
   "id": "9328886d",
   "metadata": {},
   "outputs": [],
   "source": [
    "import random\n",
    "\n",
    "symbols = {\n",
    "    'common': [recogs_common, random.sample(recogs_common, len(recogs_common))],\n",
    "    'proper': [recogs_proper, random.sample(recogs_proper, len(recogs_proper))],\n",
    "    'verb_dative': [recogs_verb_dative, random.sample(recogs_verb_dative, len(recogs_verb_dative))],\n",
    "    'verb_inf': [recogs_verb_inf, random.sample(recogs_verb_inf, len(recogs_verb_inf))],\n",
    "}"
   ]
  },
  {
   "cell_type": "code",
   "execution_count": 181,
   "id": "f097611e",
   "metadata": {},
   "outputs": [],
   "source": [
    "symbols['common'].append(dict(zip(symbols['common'][1], symbols['common'][0])))\n",
    "symbols['proper'].append(dict(zip(symbols['common'][1], symbols['proper'][0])))\n",
    "symbols['verb_dative'].append(dict(zip(symbols['verb_dative'][1], symbols['verb_dative'][0])))\n",
    "symbols['verb_inf'].append(dict(zip(symbols['verb_inf'][1], symbols['verb_inf'][0])))\n"
   ]
  },
  {
   "cell_type": "code",
   "execution_count": 182,
   "id": "e5932473",
   "metadata": {},
   "outputs": [],
   "source": [
    "train_set.columns = ['input', 'output', 'type']\n",
    "examples = train_set.sample(100)"
   ]
  },
  {
   "cell_type": "markdown",
   "id": "f1021892",
   "metadata": {},
   "source": [
    "The loop below creates a new set of supporting examples. It loops through each row in teh dataset. For each out symbol in the output field, it looks for a match in the training set. "
   ]
  },
  {
   "cell_type": "code",
   "execution_count": 183,
   "id": "a3332272",
   "metadata": {},
   "outputs": [],
   "source": [
    "supporting_examples = []\n",
    "supporting_examples_input = []\n",
    "for i, row in examples.iterrows():\n",
    "    out_symbols = row['output'].split()\n",
    "    se = []\n",
    "    for out in out_symbols:\n",
    "        for key in symbols.keys():\n",
    "            if out in symbols[key][0]:\n",
    "                if out in symbols[key][2].keys():\n",
    "                    se = (train_set[train_set['output'].str.contains(out)]['output'].values[0])\n",
    "                    sei = (train_set[train_set['output'].str.contains(out)]['input'].values[0])\n",
    "                    \n",
    "    supporting_examples.append(se)\n",
    "    supporting_examples_input.append(sei)\n",
    "examples['supporting_examples'] = supporting_examples\n",
    "examples['supporting_examples_input'] = supporting_examples_input"
   ]
  },
  {
   "cell_type": "markdown",
   "id": "d082f557",
   "metadata": {},
   "source": [
    "The code below takes words in the output field and supporting example and replaces them with their permuted version.\n",
    "\n",
    "A longer description of the code is below:\n",
    "\n",
    "Loop through the example dataset;\n",
    "For each example, loop through the output field;\n",
    "For each word in the output field, check if it is in the permuted dictionary;\n",
    "If it is, replace the word in the output field with the permuted version;\n",
    "If it is not, leave the word as is;"
   ]
  },
  {
   "cell_type": "code",
   "execution_count": null,
   "id": "772d8bb0",
   "metadata": {},
   "outputs": [],
   "source": [
    "\"\"\"\n",
    "The code below transforms output sentences to the new vocabulary\n",
    "\"\"\"\n",
    "\n",
    "new_output = []\n",
    "new_supporting_examples = []\n",
    "for i, row in examples.iterrows():\n",
    "    out_symbols = row['output'].split()\n",
    "    output_sentence = []\n",
    "    new_support = None\n",
    "    for out in out_symbols:\n",
    "        break_flag = False\n",
    "        for key in symbols.keys():\n",
    "            if out in symbols[key][0]:\n",
    "                if out in symbols[key][2].keys():\n",
    "                    output_sentence.append(symbols[key][2][out])\n",
    "                    new_support = (row['supporting_examples'].replace(out, symbols[key][2][out]))\n",
    "                    break_flag = True\n",
    "        if break_flag == False:\n",
    "                output_sentence.append(out)\n",
    "    if output_sentence:\n",
    "        new_output.append(' '.join(output_sentence))\n",
    "    if not new_support:\n",
    "        new_supporting_examples.append(row['supporting_examples'])\n",
    "    else:\n",
    "        new_supporting_examples.append(new_support)     \n",
    "\n"
   ]
  },
  {
   "cell_type": "code",
   "execution_count": 185,
   "id": "d2575f63",
   "metadata": {},
   "outputs": [],
   "source": [
    "examples['new_output'] = new_output\n",
    "examples['new_supporting_examples'] = new_supporting_examples"
   ]
  },
  {
   "cell_type": "markdown",
   "id": "339e0d2a",
   "metadata": {},
   "source": [
    "Look at the dataset to make sure everthing looks good"
   ]
  },
  {
   "cell_type": "code",
   "execution_count": 186,
   "id": "bf22bf8b",
   "metadata": {},
   "outputs": [
    {
     "name": "stdout",
     "output_type": "stream",
     "text": [
      "Input:  A girl poked the donut .\n",
      "Type:  in_distribution\n",
      "Original Output:  girl ( 29 ) ; * donut ( 41 ) ; poke ( 34 ) AND agent ( 34 , 29 ) AND theme ( 34 , 41 )\n",
      "Transformed Output:  cupboard ( 29 ) ; * journalist ( 41 ) ; poke ( 34 ) AND agent ( 34 , 29 ) AND theme ( 34 , 41 )\n",
      "Original Supporting Examples:  * donut ( 42 ) ; study ( 53 ) AND theme ( 53 , 42 )\n",
      "Transformed Supporting Examples:  * journalist ( 42 ) ; study ( 53 ) AND theme ( 53 , 42 )\n",
      "\n",
      "\n",
      "Input:  A drink was loved by the horse .\n",
      "Type:  in_distribution\n",
      "Original Output:  drink ( 19 ) ; * horse ( 53 ) ; love ( 26 ) AND theme ( 26 , 19 ) AND agent ( 26 , 53 )\n",
      "Transformed Output:  cobra ( 19 ) ; * buyer ( 53 ) ; love ( 26 ) AND theme ( 26 , 19 ) AND agent ( 26 , 53 )\n",
      "Original Supporting Examples:  horse ( 25 ) ; * cake ( 11 ) ; table ( 31 ) ; * mouse ( 34 ) ; give ( 6 ) AND agent ( 6 , 25 ) AND theme ( 6 , 11 ) AND recipient ( 6 , 34 ) AND nmod . beside ( 11 , 31 )\n",
      "Transformed Supporting Examples:  buyer ( 25 ) ; * cake ( 11 ) ; table ( 31 ) ; * mouse ( 34 ) ; give ( 6 ) AND agent ( 6 , 25 ) AND theme ( 6 , 11 ) AND recipient ( 6 , 34 ) AND nmod . beside ( 11 , 31 )\n",
      "\n",
      "\n",
      "Input:  The cake was posted to Ella by the frog .\n",
      "Type:  in_distribution\n",
      "Original Output:  * cake ( 30 ) ; Ella ( 59 ) ; * frog ( 43 ) ; post ( 6 ) AND theme ( 6 , 30 ) AND recipient ( 6 , 59 ) AND agent ( 6 , 43 )\n",
      "Transformed Output:  * mother ( 30 ) ; Ella ( 59 ) ; * painting ( 43 ) ; post ( 6 ) AND theme ( 6 , 30 ) AND recipient ( 6 , 59 ) AND agent ( 6 , 43 )\n",
      "Original Supporting Examples:  cookie ( 17 ) ; frog ( 30 ) ; girl ( 29 ) ; lend ( 9 ) AND theme ( 9 , 17 ) AND recipient ( 9 , 30 ) AND agent ( 9 , 29 )\n",
      "Transformed Supporting Examples:  cookie ( 17 ) ; painting ( 30 ) ; girl ( 29 ) ; lend ( 9 ) AND theme ( 9 , 17 ) AND recipient ( 9 , 30 ) AND agent ( 9 , 29 )\n",
      "\n",
      "\n",
      "Input:  A doll was rolled by Henry .\n",
      "Type:  in_distribution\n",
      "Original Output:  doll ( 33 ) ; Henry ( 34 ) ; roll ( 19 ) AND theme ( 19 , 33 ) AND agent ( 19 , 34 )\n",
      "Transformed Output:  horse ( 33 ) ; Henry ( 34 ) ; roll ( 19 ) AND theme ( 19 , 33 ) AND agent ( 19 , 34 )\n",
      "Original Supporting Examples:  * doll ( 3 ) ; boy ( 17 ) ; Harper ( 48 ) ; mail ( 34 ) AND theme ( 34 , 3 ) AND recipient ( 34 , 17 ) AND agent ( 34 , 48 )\n",
      "Transformed Supporting Examples:  * horse ( 3 ) ; boy ( 17 ) ; Harper ( 48 ) ; mail ( 34 ) AND theme ( 34 , 3 ) AND recipient ( 34 , 17 ) AND agent ( 34 , 48 )\n",
      "\n",
      "\n",
      "Input:  Aria was lended a pancake by the dog .\n",
      "Type:  in_distribution\n",
      "Original Output:  Aria ( 27 ) ; pancake ( 40 ) ; * dog ( 23 ) ; lend ( 26 ) AND recipient ( 26 , 27 ) AND theme ( 26 , 40 ) AND agent ( 26 , 23 )\n",
      "Transformed Output:  Aria ( 27 ) ; giant ( 40 ) ; * gumball ( 23 ) ; lend ( 26 ) AND recipient ( 26 , 27 ) AND theme ( 26 , 40 ) AND agent ( 26 , 23 )\n",
      "Original Supporting Examples:  rose ( 1 ) ; dog ( 36 ) ; help ( 40 ) AND theme ( 40 , 1 ) AND agent ( 40 , 36 )\n",
      "Transformed Supporting Examples:  rose ( 1 ) ; gumball ( 36 ) ; help ( 40 ) AND theme ( 40 , 1 ) AND agent ( 40 , 36 )\n",
      "\n",
      "\n",
      "Input:  The book was cooked by Christopher .\n",
      "Type:  in_distribution\n",
      "Original Output:  * book ( 0 ) ; Christopher ( 4 ) ; cook ( 7 ) AND theme ( 7 , 0 ) AND agent ( 7 , 4 )\n",
      "Transformed Output:  * throne ( 0 ) ; Christopher ( 4 ) ; hunt ( 7 ) AND theme ( 7 , 0 ) AND agent ( 7 , 4 )\n",
      "Original Supporting Examples:  * girl ( 23 ) ; need ( 19 ) AND agent ( 19 , 23 ) AND xcomp ( 19 , 45 ) AND cook ( 45 ) AND agent ( 45 , 23 )\n",
      "Transformed Supporting Examples:  * girl ( 23 ) ; need ( 19 ) AND agent ( 19 , 23 ) AND xcomp ( 19 , 45 ) AND hunt ( 45 ) AND agent ( 45 , 23 )\n",
      "\n",
      "\n",
      "Input:  Camila was given the cake .\n",
      "Type:  in_distribution\n",
      "Original Output:  Camila ( 44 ) ; * cake ( 4 ) ; give ( 45 ) AND recipient ( 45 , 44 ) AND theme ( 45 , 4 )\n",
      "Transformed Output:  Camila ( 44 ) ; * mother ( 4 ) ; give ( 45 ) AND recipient ( 45 , 44 ) AND theme ( 45 , 4 )\n",
      "Original Supporting Examples:  cake ( 49 ) ; Levi ( 7 ) ; Charlotte ( 15 ) ; forward ( 11 ) AND theme ( 11 , 49 ) AND recipient ( 11 , 7 ) AND agent ( 11 , 15 )\n",
      "Transformed Supporting Examples:  mother ( 49 ) ; Levi ( 7 ) ; Charlotte ( 15 ) ; forward ( 11 ) AND theme ( 11 , 49 ) AND recipient ( 11 , 7 ) AND agent ( 11 , 15 )\n",
      "\n",
      "\n",
      "Input:  A bucket was liked by a lion .\n",
      "Type:  in_distribution\n",
      "Original Output:  bucket ( 23 ) ; lion ( 7 ) ; like ( 3 ) AND theme ( 3 , 23 ) AND agent ( 3 , 7 )\n",
      "Transformed Output:  radio ( 23 ) ; rack ( 7 ) ; like ( 3 ) AND theme ( 3 , 23 ) AND agent ( 3 , 7 )\n",
      "Original Supporting Examples:  * lion ( 12 ) ; smile ( 17 ) AND agent ( 17 , 12 )\n",
      "Transformed Supporting Examples:  * rack ( 12 ) ; smile ( 17 ) AND agent ( 17 , 12 )\n",
      "\n",
      "\n",
      "Input:  The raisin was posted to a girl .\n",
      "Type:  in_distribution\n",
      "Original Output:  * raisin ( 36 ) ; girl ( 59 ) ; post ( 48 ) AND theme ( 48 , 36 ) AND recipient ( 48 , 59 )\n",
      "Transformed Output:  * backyard ( 36 ) ; cupboard ( 59 ) ; post ( 48 ) AND theme ( 48 , 36 ) AND recipient ( 48 , 59 )\n",
      "Original Supporting Examples:  Evelyn ( 54 ) ; * girl ( 14 ) ; roll ( 31 ) AND agent ( 31 , 54 ) AND theme ( 31 , 14 )\n",
      "Transformed Supporting Examples:  Evelyn ( 54 ) ; * cupboard ( 14 ) ; roll ( 31 ) AND agent ( 31 , 54 ) AND theme ( 31 , 14 )\n",
      "\n",
      "\n",
      "Input:  A mouse was passed a bag .\n",
      "Type:  in_distribution\n",
      "Original Output:  mouse ( 36 ) ; bag ( 56 ) ; pass ( 21 ) AND recipient ( 21 , 36 ) AND theme ( 21 , 56 )\n",
      "Transformed Output:  refrigerator ( 36 ) ; bin ( 56 ) ; pass ( 21 ) AND recipient ( 21 , 36 ) AND theme ( 21 , 56 )\n",
      "Original Supporting Examples:  Emma ( 41 ) ; Ava ( 50 ) ; * cake ( 48 ) ; bag ( 14 ) ; * room ( 18 ) ; say ( 44 ) AND agent ( 44 , 41 ) AND ccomp ( 44 , 23 ) AND help ( 23 ) AND agent ( 23 , 50 ) AND theme ( 23 , 48 ) AND nmod . in ( 48 , 14 ) AND nmod . in ( 14 , 18 )\n",
      "Transformed Supporting Examples:  Emma ( 41 ) ; Ava ( 50 ) ; * cake ( 48 ) ; bin ( 14 ) ; * room ( 18 ) ; say ( 44 ) AND agent ( 44 , 41 ) AND ccomp ( 44 , 23 ) AND help ( 23 ) AND agent ( 23 , 50 ) AND theme ( 23 , 48 ) AND nmod . in ( 48 , 14 ) AND nmod . in ( 14 , 18 )\n",
      "\n",
      "\n"
     ]
    }
   ],
   "source": [
    "rdn = examples.sample(10)\n",
    "for i, row in rdn.iterrows():\n",
    "    print ('Input: ', row['input'])\n",
    "    print('Type: ', row['type'])\n",
    "    print('Original Output: ', row['output'])\n",
    "    print('Transformed Output: ', row['new_output'])\n",
    "    print('Original Supporting Examples: ', row['supporting_examples'])\n",
    "    print('Transformed Supporting Examples: ', row['new_supporting_examples'])\n",
    "    print('\\n')\n"
   ]
  },
  {
   "cell_type": "code",
   "execution_count": 187,
   "id": "8e47b226",
   "metadata": {},
   "outputs": [
    {
     "data": {
      "text/html": [
       "<div>\n",
       "<style scoped>\n",
       "    .dataframe tbody tr th:only-of-type {\n",
       "        vertical-align: middle;\n",
       "    }\n",
       "\n",
       "    .dataframe tbody tr th {\n",
       "        vertical-align: top;\n",
       "    }\n",
       "\n",
       "    .dataframe thead th {\n",
       "        text-align: right;\n",
       "    }\n",
       "</style>\n",
       "<table border=\"1\" class=\"dataframe\">\n",
       "  <thead>\n",
       "    <tr style=\"text-align: right;\">\n",
       "      <th></th>\n",
       "      <th>input</th>\n",
       "      <th>output</th>\n",
       "      <th>type</th>\n",
       "      <th>supporting_examples</th>\n",
       "      <th>supporting_examples_input</th>\n",
       "      <th>new_output</th>\n",
       "      <th>new_supporting_examples</th>\n",
       "    </tr>\n",
       "  </thead>\n",
       "  <tbody>\n",
       "    <tr>\n",
       "      <th>5219</th>\n",
       "      <td>A girl was handed a donut on the rug by the boy .</td>\n",
       "      <td>girl ( 17 ) ; donut ( 35 ) ; * rug ( 2 ) ; * b...</td>\n",
       "      <td>in_distribution</td>\n",
       "      <td>* sailor ( 0 ) ; boy ( 53 ) ; dust ( 4 ) AND a...</td>\n",
       "      <td>The sailor dusted a boy .</td>\n",
       "      <td>cupboard ( 17 ) ; journalist ( 35 ) ; * valve ...</td>\n",
       "      <td>* sailor ( 0 ) ; pyramid ( 53 ) ; dust ( 4 ) A...</td>\n",
       "    </tr>\n",
       "    <tr>\n",
       "      <th>20184</th>\n",
       "      <td>The ball was eaten by a student .</td>\n",
       "      <td>* ball ( 6 ) ; student ( 48 ) ; eat ( 52 ) AND...</td>\n",
       "      <td>in_distribution</td>\n",
       "      <td>* captain ( 4 ) ; eat ( 18 ) AND agent ( 18 , 4 )</td>\n",
       "      <td>The captain ate .</td>\n",
       "      <td>* needle ( 6 ) ; bible ( 48 ) ; dust ( 52 ) AN...</td>\n",
       "      <td>* captain ( 4 ) ; dust ( 18 ) AND agent ( 18 ,...</td>\n",
       "    </tr>\n",
       "    <tr>\n",
       "      <th>3436</th>\n",
       "      <td>Ava dreamed that a pizza was sent to a girl by...</td>\n",
       "      <td>Ava ( 0 ) ; pizza ( 9 ) ; girl ( 48 ) ; Liam (...</td>\n",
       "      <td>in_distribution</td>\n",
       "      <td>Evelyn ( 54 ) ; * girl ( 14 ) ; roll ( 31 ) AN...</td>\n",
       "      <td>Evelyn rolled the girl .</td>\n",
       "      <td>Ava ( 0 ) ; coffin ( 9 ) ; cupboard ( 48 ) ; L...</td>\n",
       "      <td>Evelyn ( 54 ) ; * cupboard ( 14 ) ; roll ( 31 ...</td>\n",
       "    </tr>\n",
       "    <tr>\n",
       "      <th>1524</th>\n",
       "      <td>Olivia forwarded the boy the cake in a garden .</td>\n",
       "      <td>Olivia ( 48 ) ; * boy ( 23 ) ; * cake ( 51 ) ;...</td>\n",
       "      <td>in_distribution</td>\n",
       "      <td>Olivia ( 16 ) ; cake ( 13 ) ; garden ( 36 ) ; ...</td>\n",
       "      <td>Olivia was handed a cake in a garden .</td>\n",
       "      <td>Olivia ( 48 ) ; * pyramid ( 23 ) ; * mother ( ...</td>\n",
       "      <td>Olivia ( 16 ) ; cake ( 13 ) ; table ( 36 ) ; h...</td>\n",
       "    </tr>\n",
       "    <tr>\n",
       "      <th>15733</th>\n",
       "      <td>A donut was valued by James .</td>\n",
       "      <td>donut ( 20 ) ; James ( 0 ) ; value ( 49 ) AND ...</td>\n",
       "      <td>in_distribution</td>\n",
       "      <td>* donut ( 42 ) ; study ( 53 ) AND theme ( 53 ,...</td>\n",
       "      <td>The donut was studied .</td>\n",
       "      <td>journalist ( 20 ) ; James ( 0 ) ; value ( 49 )...</td>\n",
       "      <td>* journalist ( 42 ) ; study ( 53 ) AND theme (...</td>\n",
       "    </tr>\n",
       "  </tbody>\n",
       "</table>\n",
       "</div>"
      ],
      "text/plain": [
       "                                                   input  \\\n",
       "5219   A girl was handed a donut on the rug by the boy .   \n",
       "20184                  The ball was eaten by a student .   \n",
       "3436   Ava dreamed that a pizza was sent to a girl by...   \n",
       "1524     Olivia forwarded the boy the cake in a garden .   \n",
       "15733                      A donut was valued by James .   \n",
       "\n",
       "                                                  output             type  \\\n",
       "5219   girl ( 17 ) ; donut ( 35 ) ; * rug ( 2 ) ; * b...  in_distribution   \n",
       "20184  * ball ( 6 ) ; student ( 48 ) ; eat ( 52 ) AND...  in_distribution   \n",
       "3436   Ava ( 0 ) ; pizza ( 9 ) ; girl ( 48 ) ; Liam (...  in_distribution   \n",
       "1524   Olivia ( 48 ) ; * boy ( 23 ) ; * cake ( 51 ) ;...  in_distribution   \n",
       "15733  donut ( 20 ) ; James ( 0 ) ; value ( 49 ) AND ...  in_distribution   \n",
       "\n",
       "                                     supporting_examples  \\\n",
       "5219   * sailor ( 0 ) ; boy ( 53 ) ; dust ( 4 ) AND a...   \n",
       "20184  * captain ( 4 ) ; eat ( 18 ) AND agent ( 18 , 4 )   \n",
       "3436   Evelyn ( 54 ) ; * girl ( 14 ) ; roll ( 31 ) AN...   \n",
       "1524   Olivia ( 16 ) ; cake ( 13 ) ; garden ( 36 ) ; ...   \n",
       "15733  * donut ( 42 ) ; study ( 53 ) AND theme ( 53 ,...   \n",
       "\n",
       "                    supporting_examples_input  \\\n",
       "5219                The sailor dusted a boy .   \n",
       "20184                       The captain ate .   \n",
       "3436                 Evelyn rolled the girl .   \n",
       "1524   Olivia was handed a cake in a garden .   \n",
       "15733                 The donut was studied .   \n",
       "\n",
       "                                              new_output  \\\n",
       "5219   cupboard ( 17 ) ; journalist ( 35 ) ; * valve ...   \n",
       "20184  * needle ( 6 ) ; bible ( 48 ) ; dust ( 52 ) AN...   \n",
       "3436   Ava ( 0 ) ; coffin ( 9 ) ; cupboard ( 48 ) ; L...   \n",
       "1524   Olivia ( 48 ) ; * pyramid ( 23 ) ; * mother ( ...   \n",
       "15733  journalist ( 20 ) ; James ( 0 ) ; value ( 49 )...   \n",
       "\n",
       "                                 new_supporting_examples  \n",
       "5219   * sailor ( 0 ) ; pyramid ( 53 ) ; dust ( 4 ) A...  \n",
       "20184  * captain ( 4 ) ; dust ( 18 ) AND agent ( 18 ,...  \n",
       "3436   Evelyn ( 54 ) ; * cupboard ( 14 ) ; roll ( 31 ...  \n",
       "1524   Olivia ( 16 ) ; cake ( 13 ) ; table ( 36 ) ; h...  \n",
       "15733  * journalist ( 42 ) ; study ( 53 ) AND theme (...  "
      ]
     },
     "execution_count": 187,
     "metadata": {},
     "output_type": "execute_result"
    }
   ],
   "source": [
    "examples.head()"
   ]
  },
  {
   "cell_type": "markdown",
   "id": "3bd75a48",
   "metadata": {},
   "source": [
    "Function for the plan prompt"
   ]
  },
  {
   "cell_type": "code",
   "execution_count": 393,
   "id": "c6cfe702",
   "metadata": {},
   "outputs": [],
   "source": [
    "def get_plan_prompt(examples):\n",
    "\n",
    "    meta_learning = examples.sample(1)\n",
    "    more_examples = examples.sample(7)\n",
    "\n",
    "    inputs = pd.concat([meta_learning, more_examples])['input'].to_list()\n",
    "    outputs = pd.concat([meta_learning, more_examples])['new_output'].to_list()\n",
    "    query_input = meta_learning['supporting_examples_input'].values[0]\n",
    "    query_output = meta_learning['new_supporting_examples'].values[0]\n",
    "\n",
    "\n",
    "    inputs = \"\\n\".join(inputs)\n",
    "    outputs = \"\\n\".join(outputs)       \n",
    "\n",
    "    plan_prompt = f\"\"\"\n",
    "\n",
    "    Imagine you are an expert in semantic parsing of natural language.\n",
    "\n",
    "    You must develop a plan to convert each sentence into its logical form.\n",
    "\n",
    "    A series of inputs and outputs are given to you. For example:\n",
    "\n",
    "    Input: \"A bat was cooked .\"\n",
    "    Output: \"bat ( 59 ) ; cook ( 2 ) AND theme ( 2 , 59 )\"\n",
    "\n",
    "    To ensure that you focus on the semantic meaning of the sentences, the words themselves will replaced with other, equivalent words.\n",
    "    For example, \"bat\" might be replaced with \"cat\", and \"cook\" might be replaced with \"eat\".\n",
    "\n",
    "    Below is a full example of the input and output sentences, with the words replaced with other, equivalent words:\n",
    "\n",
    "    Input: {inputs}\n",
    "    Output: {outputs}\n",
    "    Query Input: {query_input}\n",
    "    Query Output: {query_output}\n",
    "\n",
    "    For every example, the possible roles that words can take are as follows:\n",
    "\n",
    "    - Nouns (including proper nouns). Nouns are denoted with numbers in parentheses.\n",
    "    - Verbs. Verbs are denoted with numbers in parentheses.\n",
    "    - Agents (who do events). Agents are denoted by agent followed by the number(s) in parentheses referring to the noun and verb.\n",
    "    - Themes (who undergo events). Themes are denoted by theme followed by the number(s) in parentheses referring to the noun and verb.\n",
    "    - Recipients (who receive events). Recipients are denoted by recipient followed by the number(s) in parentheses referring to the noun and verb.\n",
    "    - Nmod (noun modifiers). Nmod are denoted by nmod followed by the number(s) in parentheses referring to the part of the sentence that is modified.\n",
    "    - Ccomp (comparative clauses). Ccomp are denoted by ccomp followed by the number(s) in parentheses referring to the part of the sentence that it is a complement of.\n",
    "\n",
    "\n",
    "    Your output should be a plan for converting a query input into its logical form.\n",
    "\n",
    "\n",
    "\n",
    "    \"\"\"    \n",
    "\n",
    "    return plan_prompt\n"
   ]
  },
  {
   "cell_type": "markdown",
   "id": "582e355c",
   "metadata": {
    "vscode": {
     "languageId": "bat"
    }
   },
   "source": [
    "Function for the vote prompt"
   ]
  },
  {
   "cell_type": "code",
   "execution_count": 394,
   "id": "ae15440c",
   "metadata": {},
   "outputs": [],
   "source": [
    "def vote_prompt(plan, n = 10):\n",
    "    upper = n - 1\n",
    "    vote_prompt = f\"\"\"\"\n",
    "    Imagine you are a group of five experts and you are given a list of plans to convert a sentence into its logical form.\n",
    "\n",
    "    Your task to score each plan on a scale of 1 to 10, where 1 is \"very bad\" and 10 is \"very good\".\n",
    "\n",
    "    After voting on each plan, select the plan that received the most votes.\n",
    "\n",
    "    The plans are as follows: {plan}\n",
    "\n",
    "    Remember for RECOGS that the possible roles that words can take are as follows:\n",
    "\n",
    "    - Nouns (including proper nouns). Nouns are denoted with numbers in parentheses.\n",
    "    - Verbs. Verbs are denoted with numbers in parentheses.\n",
    "    - Agents (who do events). Agents are denoted by agent followed by the number(s) in parentheses referring to the noun and verb.\n",
    "    - Themes (who undergo events). Themes are denoted by theme followed by the number(s) in parentheses referring to the noun and verb.\n",
    "    - Recipients (who receive events). Recipients are denoted by recipient followed by the number(s) in parentheses referring to the noun and verb.\n",
    "    - Nmod (noun modifiers). Nmod are denoted by nmod followed by the number(s) in parentheses referring to the part of the sentence that is modified.\n",
    "    - Ccomp (comparative clauses). Ccomp are denoted by ccomp followed by the number(s) in parentheses referring to the part of the sentence that it is a complement of.\n",
    "\n",
    "\n",
    "    The output should be a single number between 0 and {upper} to indicate which of the {n} plans you chose.  For example, if you chose the first plan, your output should be \"0\". If you chose the second plan, your output should be \"1\", and so on. \n",
    "    Do not return more than one number.\n",
    "\n",
    "    \"\"\"    \n",
    "    return vote_prompt"
   ]
  },
  {
   "cell_type": "markdown",
   "id": "3e6d32d5",
   "metadata": {},
   "source": [
    "Function for the prompt to apply the plan"
   ]
  },
  {
   "cell_type": "code",
   "execution_count": null,
   "id": "c28936ff",
   "metadata": {},
   "outputs": [],
   "source": [
    "def apply_plan(generated_plan, test_inputs):\n",
    "    application_prompt = f\"\"\"\n",
    "\n",
    "    You are given a plan to parse a sentence into its logical form. The plan is as follows:\n",
    "\n",
    "    Plan: {generated_plan}\n",
    "\n",
    "    Your output should be the logical form of the sentence of the input sentence.\n",
    "\n",
    "    In your output, assume the words are not permuted. For example, if the input sentence is \"A bat was cooked\", your output should be \"bat ( 59 ) ; cook ( 2 ) AND theme ( 2 , 59 )\".\n",
    "\n",
    "    For every example, the possible roles that words can take are as follows:\n",
    "\n",
    "    - Nouns (including proper nouns). Nouns are denoted with numbers in parentheses.\n",
    "    - Verbs. Verbs are denoted with numbers in parentheses.\n",
    "    - Agents (who do events). Agents are denoted by agent followed by the number(s) in parentheses referring to the noun and verb.\n",
    "    - Themes (who undergo events). Themes are denoted by theme followed by the number(s) in parentheses referring to the noun and verb.\n",
    "    - Recipients (who receive events). Recipients are denoted by recipient followed by the number(s) in parentheses referring to the noun and verb.\n",
    "    - Nmod (noun modifiers). Nmod are denoted by nmod followed by the number(s) in parentheses referring to the part of the sentence that is modified.\n",
    "    - Ccomp (comparative clauses). Ccomp are denoted by ccomp followed by the number(s) in parentheses referring to the part of the sentence that it is a complement of.\n",
    "\n",
    "    The input sentence is: {test_input} \n",
    "\n",
    "    \"\"\"\n",
    "    return application_prompt\n"
   ]
  },
  {
   "cell_type": "markdown",
   "id": "540ca946",
   "metadata": {},
   "source": [
    "Get the data we will test on and register our LLM"
   ]
  },
  {
   "cell_type": "code",
   "execution_count": 396,
   "id": "2ff86551",
   "metadata": {},
   "outputs": [],
   "source": [
    "gen_set = pd.read_csv('./data/RECOGSgen.tsv', sep = '\\t', header = None)\n",
    "lm = dspy.LM(model='gpt-3.5-turbo', api_key=openai_key)\n",
    "gen_set = gen_set.sample(100).reset_index(drop=True)\n"
   ]
  },
  {
   "cell_type": "code",
   "execution_count": 397,
   "id": "15e34b60",
   "metadata": {},
   "outputs": [
    {
     "data": {
      "text/html": [
       "<div>\n",
       "<style scoped>\n",
       "    .dataframe tbody tr th:only-of-type {\n",
       "        vertical-align: middle;\n",
       "    }\n",
       "\n",
       "    .dataframe tbody tr th {\n",
       "        vertical-align: top;\n",
       "    }\n",
       "\n",
       "    .dataframe thead th {\n",
       "        text-align: right;\n",
       "    }\n",
       "</style>\n",
       "<table border=\"1\" class=\"dataframe\">\n",
       "  <thead>\n",
       "    <tr style=\"text-align: right;\">\n",
       "      <th></th>\n",
       "      <th>0</th>\n",
       "      <th>1</th>\n",
       "      <th>2</th>\n",
       "    </tr>\n",
       "  </thead>\n",
       "  <tbody>\n",
       "    <tr>\n",
       "      <th>0</th>\n",
       "      <td>Amelia gave Olivia the shark beside a bottle .</td>\n",
       "      <td>Amelia ( 12 ) ; Olivia ( 19 ) ; * shark ( 10 )...</td>\n",
       "      <td>prim_to_obj_common</td>\n",
       "    </tr>\n",
       "    <tr>\n",
       "      <th>1</th>\n",
       "      <td>Lucas gave Liam a hedgehog on a table .</td>\n",
       "      <td>Lucas ( 11 ) ; Liam ( 22 ) ; hedgehog ( 12 ) ;...</td>\n",
       "      <td>subj_to_obj_common</td>\n",
       "    </tr>\n",
       "    <tr>\n",
       "      <th>2</th>\n",
       "      <td>The wolf on a computer was handed a bat by the...</td>\n",
       "      <td>* wolf ( 7 ) ; computer ( 2 ) ; bat ( 29 ) ; *...</td>\n",
       "      <td>obj_pp_to_subj_pp</td>\n",
       "    </tr>\n",
       "    <tr>\n",
       "      <th>3</th>\n",
       "      <td>The girl thought that the shark liked a cake .</td>\n",
       "      <td>* girl ( 50 ) ; * shark ( 8 ) ; cake ( 7 ) ; t...</td>\n",
       "      <td>prim_to_subj_common</td>\n",
       "    </tr>\n",
       "    <tr>\n",
       "      <th>4</th>\n",
       "      <td>Emma gave a hedgehog to Joshua .</td>\n",
       "      <td>Emma ( 47 ) ; hedgehog ( 4 ) ; Joshua ( 36 ) ;...</td>\n",
       "      <td>subj_to_obj_common</td>\n",
       "    </tr>\n",
       "  </tbody>\n",
       "</table>\n",
       "</div>"
      ],
      "text/plain": [
       "                                                   0  \\\n",
       "0     Amelia gave Olivia the shark beside a bottle .   \n",
       "1            Lucas gave Liam a hedgehog on a table .   \n",
       "2  The wolf on a computer was handed a bat by the...   \n",
       "3     The girl thought that the shark liked a cake .   \n",
       "4                   Emma gave a hedgehog to Joshua .   \n",
       "\n",
       "                                                   1                    2  \n",
       "0  Amelia ( 12 ) ; Olivia ( 19 ) ; * shark ( 10 )...   prim_to_obj_common  \n",
       "1  Lucas ( 11 ) ; Liam ( 22 ) ; hedgehog ( 12 ) ;...   subj_to_obj_common  \n",
       "2  * wolf ( 7 ) ; computer ( 2 ) ; bat ( 29 ) ; *...    obj_pp_to_subj_pp  \n",
       "3  * girl ( 50 ) ; * shark ( 8 ) ; cake ( 7 ) ; t...  prim_to_subj_common  \n",
       "4  Emma ( 47 ) ; hedgehog ( 4 ) ; Joshua ( 36 ) ;...   subj_to_obj_common  "
      ]
     },
     "execution_count": 397,
     "metadata": {},
     "output_type": "execute_result"
    }
   ],
   "source": [
    "gen_set.head()"
   ]
  },
  {
   "cell_type": "markdown",
   "id": "45170614",
   "metadata": {},
   "source": [
    "Get a bunch of plans!"
   ]
  },
  {
   "cell_type": "code",
   "execution_count": 398,
   "id": "f70df9d7",
   "metadata": {},
   "outputs": [],
   "source": [
    "plans = []\n",
    "for i in range(0, 10):\n",
    "    plans.append(lm(get_plan_prompt(examples), temperature=0.9, max_tokens=1000)[0])\n",
    "    "
   ]
  },
  {
   "cell_type": "markdown",
   "id": "fe553389",
   "metadata": {},
   "source": [
    "See which plan gets the most votes"
   ]
  },
  {
   "cell_type": "code",
   "execution_count": 399,
   "id": "7a5c8d8b",
   "metadata": {},
   "outputs": [
    {
     "name": "stdout",
     "output_type": "stream",
     "text": [
      "Vote: 3\n"
     ]
    }
   ],
   "source": [
    "n = len(plans)\n",
    "plan = \"\\n\\n\".join(plans)\n",
    "vote = lm(vote_prompt(plan, n = n), temperature=0.9, max_tokens=1000)[0]\n",
    "matches = re.findall(r'\\d+(?:\\.\\d+)?', vote)\n",
    "if matches:\n",
    "    vote = matches[-1]\n",
    "print (f\"Vote: {vote}\")\n",
    "final_plan = plans[int(vote)]"
   ]
  },
  {
   "cell_type": "markdown",
   "id": "baf137bd",
   "metadata": {},
   "source": [
    "Now apply the plan and see how we do!"
   ]
  },
  {
   "cell_type": "code",
   "execution_count": 400,
   "id": "8be62ef0",
   "metadata": {},
   "outputs": [],
   "source": [
    "predictions = []\n",
    "for i, row in gen_set.iterrows():\n",
    "    logical_form = lm(apply_plan(final_plan, row[0], examples), temperature=0.9, max_tokens=1000)\n",
    "    predictions.append(logical_form[0])\n",
    "\n",
    "edit_predictions = []\n",
    "for string in predictions:\n",
    "    new_string = string.replace(\"Output:\", \"\").strip()\n",
    "    edit_predictions.append(new_string)"
   ]
  },
  {
   "cell_type": "code",
   "execution_count": 405,
   "id": "4e74e09e",
   "metadata": {},
   "outputs": [],
   "source": [
    "accuracy = []\n",
    "\n",
    "for i, row in gen_set.iterrows():\n",
    "    accuracy.append(recogs_exact_match(row[1], edit_predictions[i]))\n"
   ]
  },
  {
   "cell_type": "code",
   "execution_count": 406,
   "id": "afd7d199",
   "metadata": {},
   "outputs": [
    {
     "data": {
      "text/plain": [
       "0.0"
      ]
     },
     "execution_count": 406,
     "metadata": {},
     "output_type": "execute_result"
    }
   ],
   "source": [
    "np.mean(accuracy)"
   ]
  },
  {
   "cell_type": "markdown",
   "id": "4c0b95b8",
   "metadata": {},
   "source": [
    "Try the same but dont do meta learning"
   ]
  },
  {
   "cell_type": "code",
   "execution_count": 407,
   "id": "a3f4f94a",
   "metadata": {},
   "outputs": [],
   "source": [
    "def get_plan_prompt_sans_meta(examples):\n",
    "\n",
    "    meta_learning = examples.sample(1)\n",
    "    more_examples = examples.sample(7)\n",
    "\n",
    "    inputs = pd.concat([meta_learning, more_examples])['input'].to_list()\n",
    "    outputs = pd.concat([meta_learning, more_examples])['output'].to_list()\n",
    "\n",
    "\n",
    "    inputs = \"\\n\".join(inputs)\n",
    "    outputs = \"\\n\".join(outputs)       \n",
    "\n",
    "    plan_prompt = f\"\"\"\n",
    "\n",
    "    Imagine you are an expert in semantic parsing of natural language.\n",
    "\n",
    "    You must develop a plan to convert each sentence into its logical form.\n",
    "\n",
    "    A series of inputs and outputs are given to you. For example:\n",
    "    \n",
    "    Input: {inputs}\n",
    "    Output: {outputs}\n",
    "\n",
    "    For every example, the possible roles that words can take are as follows:\n",
    "\n",
    "    - Nouns (including proper nouns). Nouns are denoted with numbers in parentheses.\n",
    "    - Verbs. Verbs are denoted with numbers in parentheses.\n",
    "    - Agents (who do events). Agents are denoted by agent followed by the number(s) in parentheses referring to the noun and verb.\n",
    "    - Themes (who undergo events). Themes are denoted by theme followed by the number(s) in parentheses referring to the noun and verb.\n",
    "    - Recipients (who receive events). Recipients are denoted by recipient followed by the number(s) in parentheses referring to the noun and verb.\n",
    "    - Nmod (noun modifiers). Nmod are denoted by nmod followed by the number(s) in parentheses referring to the part of the sentence that is modified.\n",
    "    - Ccomp (comparative clauses). Ccomp are denoted by ccomp followed by the number(s) in parentheses referring to the part of the sentence that it is a complement of.\n",
    "\n",
    "\n",
    "    Your output should be a plan for converting a query input into its logical form.\n",
    "\n",
    "\n",
    "\n",
    "    \"\"\"    \n",
    "\n",
    "    return plan_prompt"
   ]
  },
  {
   "cell_type": "code",
   "execution_count": 408,
   "id": "7d99c76f",
   "metadata": {},
   "outputs": [
    {
     "name": "stdout",
     "output_type": "stream",
     "text": [
      "Vote: 3\n"
     ]
    },
    {
     "data": {
      "text/plain": [
       "0.0"
      ]
     },
     "execution_count": 408,
     "metadata": {},
     "output_type": "execute_result"
    }
   ],
   "source": [
    "plans = []\n",
    "for i in range(0, 10):\n",
    "    plans.append(lm(get_plan_prompt_sans_meta(examples), temperature=0.9, max_tokens=1000)[0])\n",
    "    \n",
    "n = len(plans)\n",
    "plan = \"\\n\\n\".join(plans)\n",
    "vote = lm(vote_prompt(plan, n = n), temperature=0.9, max_tokens=1000)[0]\n",
    "matches = re.findall(r'\\d+(?:\\.\\d+)?', vote)\n",
    "if matches:\n",
    "    vote = matches[-1]\n",
    "print (f\"Vote: {vote}\")\n",
    "final_plan = plans[int(vote)]    \n",
    "\n",
    "predictions = []\n",
    "for i, row in gen_set.iterrows():\n",
    "    logical_form = lm(apply_plan(final_plan, row[0], examples), temperature=0.9, max_tokens=1000)\n",
    "    predictions.append(logical_form[0])\n",
    "\n",
    "edit_predictions = []\n",
    "for string in predictions:\n",
    "    new_string = string.replace(\"Output:\", \"\").strip()\n",
    "    edit_predictions.append(new_string)\n",
    "    \n",
    "accuracy = []\n",
    "\n",
    "for i, row in gen_set.iterrows():\n",
    "    accuracy.append(recogs_exact_match(row[1], edit_predictions[i]))    \n",
    "\n",
    "np.mean(accuracy)    "
   ]
  },
  {
   "cell_type": "markdown",
   "id": "469bc41c",
   "metadata": {},
   "source": [
    "Next, I prepare the data for DsPy. First, I'll start with a Simple Meta Learning Signtature"
   ]
  },
  {
   "cell_type": "code",
   "execution_count": 412,
   "id": "7812f801",
   "metadata": {},
   "outputs": [],
   "source": [
    "dspy_recogs_train = [\n",
    "    dspy.Example(\n",
    "        sentence=row['input'], logical_form=row['output']\n",
    "    ).with_inputs(\"sentence\")\n",
    "    for _, row in examples.iterrows()]"
   ]
  },
  {
   "cell_type": "code",
   "execution_count": null,
   "id": "fdf70904",
   "metadata": {},
   "outputs": [],
   "source": []
  },
  {
   "cell_type": "code",
   "execution_count": null,
   "id": "2cf08df1",
   "metadata": {},
   "outputs": [],
   "source": [
    "class SimpleMetaLearn(dspy.Signature):\n",
    "\n",
    "    __doc__ = \"\"\"\n",
    "    Imagine you are an expert in semantic parsing of natural language.\n",
    "    \n",
    "    A series of inputs and outputs are given to you. For example:\n",
    "    Input: \"A bat was cooked .\"\n",
    "    Output: \"bat ( 59 ) ; cook ( 2 ) AND theme ( 2 , 59 )\"\n",
    "    To ensure that you focus on the semantic meaning of the sentences, the words themselves will replaced with other, equivalent words.\n",
    "    For example, \"bat\" might be replaced with \"cat\", and \"cook\" might be replaced with \"eat\".\n",
    "    Below is a full example of the input and output sentences, with the words replaced with other, equivalent words:\n",
    "\n",
    "    Examples: \n",
    "\n",
    "    Input: A rose was floated by Emma  --> Output: teapot ( 30 ) ; Emma ( 15 ) ; float ( 52 ) AND theme ( 52 , 30 ) AND agent ( 52 , 15 )\n",
    "    Input: Isabella liked that a cake was eaten . -->  Output: Isabella ( 13 ) ; mother ( 14 ) ; like ( 39 ) AND agent ( 39 , 13 ) AND ccomp ( 39 , 10 ) AND dust ( 10 ) AND theme ( 10 , 14 )\n",
    "    Input: A sandwich was grown . -->  Output: queen ( 11 ) ; grow ( 52 ) AND theme ( 52 , 11 )\n",
    "    Input: James respected that a box was shortened by a horse . -->  Output: James ( 45 ) ; hat ( 6 ) ; buyer ( 43 ) ; respect ( 0 ) AND agent ( 0 , 45 ) AND ccomp ( 0 , 15 ) AND shorten ( 15 ) AND theme ( 15 , 6 ) AND agent ( 15 , 43 )\n",
    "    Input: Ava liked a donut on the plate . -->  Output: Ava ( 9 ) ; journalist ( 23 ) ; * tenant ( 15 ) ; like ( 37 ) AND agent ( 37 , 9 ) AND theme ( 37 , 23 ) AND nmod . on ( 23 , 15 )\n",
    "    Input: A bottle was enlarged by Olivia . -->  Output: coach ( 19 ) ; Olivia ( 51 ) ; enlarge ( 56 ) AND theme ( 56 , 19 ) AND agent ( 56 , 51 )\n",
    "    \n",
    "    Query: \n",
    "    Input: A rose was helped by a dog . --> Output: teapot ( 1 ) ; dog ( 36 ) ; help ( 40 ) AND theme ( 40 , 1 ) AND agent ( 40 , 36 )\n",
    "    \n",
    "    For every example, the possible roles that words can take are as follows:\n",
    "    \n",
    "     - Nouns (including proper nouns). Nouns are denoted with numbers in parentheses.\n",
    "     - Verbs. Verbs are denoted with numbers in parentheses.\n",
    "     - Agents (who do events). Agents are denoted by agent followed by the number(s) in parentheses referring to the noun and verb.\n",
    "     - Themes (who undergo events). Themes are denoted by theme followed by the number(s) in parentheses referring to the noun and verb.\n",
    "     - Recipients (who receive events). Recipients are denoted by recipient followed by the number(s) in parentheses referring to the noun and verb.\n",
    "     - Nmod (noun modifiers). Nmod are denoted by nmod followed by the number(s) in parentheses referring to the part of the sentence that is modified.\n",
    "     - Ccomp (comparative clauses). Ccomp are denoted by ccomp followed by the number(s) in parentheses referring to the part of the sentence that it is a complement of.\n",
    "\n",
    "    \"\"\"\n",
    "\n",
    "    sentence = dspy.InputField(desc=\"A sentence to parse\")\n",
    "    logical_form = dspy.OutputField(desc=\"The logical form of the sentence\")\n",
    "\n",
    "class BasicMetaLearn(dspy.Module):\n",
    "    def __init__(self):\n",
    "        super().__init__()\n",
    "        self.chain= dspy.ChainOfThought(SimpleMetaLearn)\n",
    "\n",
    "    def forward(self, sentence):\n",
    "        return self.chain(sentence = sentence).logical_form\n",
    "        \n",
    "\n",
    "    "
   ]
  },
  {
   "cell_type": "markdown",
   "id": "80ee88a4",
   "metadata": {},
   "source": [
    "I have to make a recogs_exact_match_alt function because I continue to have problems with the flag"
   ]
  },
  {
   "cell_type": "code",
   "execution_count": 472,
   "id": "389afb33",
   "metadata": {},
   "outputs": [],
   "source": [
    "from collections import defaultdict\n",
    "from itertools import product\n",
    "import re\n",
    "\n",
    "\n",
    "def recogs_exact_match_alt(gold, pred, flag=\"000000\"):\n",
    "    flag=\"000000\"\n",
    "    gold = normalize_formula(gold.logical_form)\n",
    "    pred = normalize_formula(pred)\n",
    "    gold_conj_set = get_conj_set(gold)\n",
    "    # Loop over all viable mappings from pred_vars to gold_vars:\n",
    "    for this_map in _candidate_variable_maps(gold, pred):\n",
    "        phi = pred\n",
    "        for sourcevar, targetvar in this_map.items():\n",
    "            # The flag makes sure we don't accidentally do a chain\n",
    "            # of replacements via successive changes in situations\n",
    "            # where the domain and range of `this_map` share vars.\n",
    "            phi = variable_change(phi, sourcevar, targetvar, flag=flag)\n",
    "        phi = phi.replace(flag, \"\")\n",
    "        phi_conj_set = get_conj_set(phi)\n",
    "        # This step assumes that we have no conjuncts that are\n",
    "        # tautologies, contradictions, or equality predications. If\n",
    "        # such are introduced, they need to be identified ahead of\n",
    "        # time and treated separately -- tautologies would be removed,\n",
    "        # contradictions would reduce to comparisons of only those\n",
    "        # conjuncts, and equality statements would call for special\n",
    "        # handling related to variables mapping.\n",
    "        if phi_conj_set == gold_conj_set:\n",
    "            return True\n",
    "    return False\n",
    "\n",
    "\n",
    "def normalize_formula(phi):\n",
    "    return phi.replace(\" \", \"\").replace(\"AND\" , \" AND \")\n",
    "\n",
    "\n",
    "binary_pred_re = re.compile(r\"\"\"\n",
    "    (\\w+)\n",
    "    \\s*\n",
    "    \\(\n",
    "    \\s*\n",
    "    (\\d+)\n",
    "    \\s*\n",
    "    ,\n",
    "    \\s*\n",
    "    (\\d+)\n",
    "    \\s*\n",
    "    \\)\"\"\", re.VERBOSE)\n",
    "\n",
    "\n",
    "unary_pred_re = re.compile(r\"\"\"\n",
    "    (\\w+)\n",
    "    \\s*\n",
    "    \\(\n",
    "    \\s*\n",
    "    (\\d+)\n",
    "    \\s*\n",
    "    \\)\"\"\", re.VERBOSE)\n",
    "\n",
    "\n",
    "def _candidate_variable_maps(gold, pred):\n",
    "    # This creates a mapping from tuples of predicates into their\n",
    "    # associated variables. These serve as equivalence classes over\n",
    "    # variables that could possibly be translations of each other.\n",
    "    gold_map = _map_get_preds_to_vars(gold)\n",
    "    pred_map = _map_get_preds_to_vars(pred)\n",
    "\n",
    "    # For each prediction variable, get the set of potential\n",
    "    # translations for it:\n",
    "    pred2gold = defaultdict(list)\n",
    "    for preds, pvars in pred_map.items():\n",
    "        gvars = gold_map[preds]\n",
    "        for pvar in pvars:\n",
    "            pred2gold[pvar] = gold_map[preds]\n",
    "\n",
    "    # Variable sets:\n",
    "    gold_vars = set(get_variables(gold))\n",
    "    pred_vars = set(get_variables(pred))\n",
    "\n",
    "    # Now generate potentially viable mappings:\n",
    "    for vals in list(product(*list(pred2gold.values()))):\n",
    "        d = dict(zip(pred2gold.keys(), vals))\n",
    "        if set(d.keys()) == pred_vars and set(d.values()) == gold_vars:\n",
    "            yield d\n",
    "\n",
    "\n",
    "def _map_get_preds_to_vars(phi):\n",
    "    var2pred = defaultdict(list)\n",
    "    for pred, var in unary_pred_re.findall(phi):\n",
    "        var2pred[var].append(pred)\n",
    "    # We could do somewhat less search by specializing to first and\n",
    "    # second position for these predicates, but I think it's fine\n",
    "    # as-is.\n",
    "    for pred, var1, var2 in binary_pred_re.findall(phi):\n",
    "        var2pred[var1].append(pred)\n",
    "        var2pred[var2].append(pred)\n",
    "    pred2var = defaultdict(list)\n",
    "    for var, preds in var2pred.items():\n",
    "        pred2var[tuple(sorted(preds))].append(var)\n",
    "    return pred2var\n",
    "\n",
    "\n",
    "def get_variables(phi):\n",
    "    variable_re = re.compile(r\"(\\d+)\")\n",
    "    return variable_re.findall(phi)\n",
    "\n",
    "\n",
    "def get_conj_set(phi):\n",
    "    conj_splitter_re  = re.compile(r\"\\s*(?:AND|;)\\s*\")\n",
    "    return set(conj_splitter_re.split(phi))\n",
    "\n",
    "\n",
    "def variable_change(phi, sourcevar, targetvar, flag=\"000000\"):\n",
    "    replace_re = re.compile(rf\"\\b{sourcevar}\\b\")\n",
    "    return replace_re.sub(f\"{flag}{targetvar}\", phi)\n"
   ]
  },
  {
   "cell_type": "markdown",
   "id": "22443a77",
   "metadata": {},
   "source": [
    "Optimize! "
   ]
  },
  {
   "cell_type": "code",
   "execution_count": null,
   "id": "3dabb5b5",
   "metadata": {},
   "outputs": [
    {
     "name": "stderr",
     "output_type": "stream",
     "text": [
      "  0%|          | 0/100 [00:00<?, ?it/s]"
     ]
    },
    {
     "name": "stderr",
     "output_type": "stream",
     "text": [
      "  8%|▊         | 8/100 [00:06<01:17,  1.19it/s]"
     ]
    },
    {
     "name": "stdout",
     "output_type": "stream",
     "text": [
      "Bootstrapped 4 full traces after 8 examples for up to 1 rounds, amounting to 8 attempts.\n"
     ]
    },
    {
     "name": "stderr",
     "output_type": "stream",
     "text": [
      "\n"
     ]
    }
   ],
   "source": [
    "from dspy.teleprompt import BootstrapFewShot, LabeledFewShot, BootstrapFewShotWithRandomSearch\n",
    "lm = dspy.LM(model='gpt-3.5-turbo', api_key=openai_key)\n",
    "dspy.settings.configure(lm=lm)\n",
    "fewshot_optimizer = BootstrapFewShot(metric=recogs_exact_match_alt)\n",
    "compiled = fewshot_optimizer.compile(student = BasicMetaLearn(), trainset=dspy_recogs_train)"
   ]
  },
  {
   "cell_type": "code",
   "execution_count": 463,
   "id": "be803a37",
   "metadata": {},
   "outputs": [],
   "source": [
    "gen_set['prediction'] = gen_set[0].apply(\n",
    "    lambda x: compiled(sentence=x))     "
   ]
  },
  {
   "cell_type": "code",
   "execution_count": 466,
   "id": "7db23962",
   "metadata": {},
   "outputs": [
    {
     "data": {
      "text/plain": [
       "0.29"
      ]
     },
     "execution_count": 466,
     "metadata": {},
     "output_type": "execute_result"
    }
   ],
   "source": [
    "gen_set['correct'] = gen_set.apply(\n",
    "    lambda row: recogs_exact_match(row[1], row['prediction']), axis=1)  \n",
    "gen_set['correct'].sum() / gen_set.shape[0]     "
   ]
  },
  {
   "cell_type": "code",
   "execution_count": 467,
   "id": "6c91ba44",
   "metadata": {},
   "outputs": [
    {
     "data": {
      "text/plain": [
       "2\n",
       "active_to_passive                                         1.000000\n",
       "cp_recursion                                              0.000000\n",
       "do_dative_to_pp_dative                                    0.000000\n",
       "obj_omitted_transitive_to_transitive                      0.200000\n",
       "obj_pp_to_subj_pp                                         0.222222\n",
       "obj_to_subj_common                                        0.200000\n",
       "obj_to_subj_proper                                        0.285714\n",
       "only_seen_as_transitive_subj_as_unacc_subj                0.400000\n",
       "only_seen_as_unacc_subj_as_obj_omitted_transitive_subj    0.000000\n",
       "only_seen_as_unacc_subj_as_unerg_subj                     0.000000\n",
       "passive_to_active                                         0.833333\n",
       "pp_dative_to_do_dative                                    0.500000\n",
       "pp_recursion                                              0.000000\n",
       "prim_to_inf_arg                                           0.000000\n",
       "prim_to_obj_common                                        0.142857\n",
       "prim_to_obj_proper                                        0.833333\n",
       "prim_to_subj_common                                       0.000000\n",
       "prim_to_subj_proper                                       1.000000\n",
       "subj_to_obj_common                                        0.400000\n",
       "subj_to_obj_proper                                        0.000000\n",
       "unacc_to_transitive                                       0.666667\n",
       "Name: correct, dtype: float64"
      ]
     },
     "execution_count": 467,
     "metadata": {},
     "output_type": "execute_result"
    }
   ],
   "source": [
    "gen_set.groupby([2])['correct'].mean()"
   ]
  },
  {
   "cell_type": "markdown",
   "id": "1d74d939",
   "metadata": {},
   "source": [
    "Function to make a new prompt"
   ]
  },
  {
   "cell_type": "code",
   "execution_count": 468,
   "id": "aab86678",
   "metadata": {},
   "outputs": [],
   "source": [
    "def get_plan_prompt(examples):\n",
    "\n",
    "    examples = examples.sample(8)\n",
    "\n",
    "    inputs = pd.concat([meta_learning, more_examples])['input'].to_list()\n",
    "    outputs = pd.concat([meta_learning, more_examples])['output'].to_list()\n",
    "\n",
    "    input_output = []\n",
    "\n",
    "    for i, row in examples.iterrows():\n",
    "        input_output.append(f\"Input: {row['input']} --> Output: {row['output']}\")\n",
    "    input_output = \"\\n\".join(input_output)\n",
    "\n",
    "    plan_prompt = f\"\"\"\n",
    "    Imagine you are an expert in semantic parsing of natural language.\n",
    "    A series of inputs and outputs are given to you. \n",
    "\n",
    "    Examples: {input_output}\n",
    "\n",
    "    For every example, the possible roles that words can take are as follows:\n",
    "    \n",
    "     - Nouns (including proper nouns). Nouns are denoted with numbers in parentheses.\n",
    "     - Verbs. Verbs are denoted with numbers in parentheses.\n",
    "     - Agents (who do events). Agents are denoted by agent followed by the number(s) in parentheses referring to the noun and verb.\n",
    "     - Themes (who undergo events). Themes are denoted by theme followed by the number(s) in parentheses referring to the noun and verb.\n",
    "     - Recipients (who receive events). Recipients are denoted by recipient followed by the number(s) in parentheses referring to the noun and verb.\n",
    "     - Nmod (noun modifiers). Nmod are denoted by nmod followed by the number(s) in parentheses referring to the part of the sentence that is modified.\n",
    "     - Ccomp (comparative clauses). Ccomp are denoted by ccomp followed by the number(s) in parentheses referring to the part of the sentence that it is a complement of.\n",
    "     \n",
    "    \"\"\"    \n",
    "\n",
    "    return plan_prompt\n"
   ]
  },
  {
   "cell_type": "code",
   "execution_count": 469,
   "id": "c7c65774",
   "metadata": {},
   "outputs": [
    {
     "data": {
      "text/plain": [
       "'\\n    Imagine you are an expert in semantic parsing of natural language.\\n    A series of inputs and outputs are given to you. \\n\\n    Examples: Input: A cookie was missed . --> Output: cookie ( 48 ) ; miss ( 10 ) AND theme ( 10 , 48 )\\nInput: The mandarin was doubled . --> Output: * mandarin ( 15 ) ; double ( 39 ) AND theme ( 39 , 15 )\\nInput: Ava liked that Liam nursed . --> Output: Ava ( 17 ) ; Liam ( 34 ) ; like ( 44 ) AND agent ( 44 , 17 ) AND ccomp ( 44 , 22 ) AND nurse ( 22 ) AND agent ( 22 , 34 )\\nInput: The cookie was given to Emma by a visitor . --> Output: * cookie ( 31 ) ; Emma ( 34 ) ; visitor ( 13 ) ; give ( 44 ) AND theme ( 44 , 31 ) AND recipient ( 44 , 34 ) AND agent ( 44 , 13 )\\nInput: A puppy helped a donut . --> Output: puppy ( 38 ) ; donut ( 14 ) ; help ( 27 ) AND agent ( 27 , 38 ) AND theme ( 27 , 14 )\\nInput: The pumpkin was liked by Liam . --> Output: * pumpkin ( 38 ) ; Liam ( 36 ) ; like ( 59 ) AND theme ( 59 , 38 ) AND agent ( 59 , 36 )\\nInput: A pizza was cleaned by Emma . --> Output: pizza ( 2 ) ; Emma ( 20 ) ; clean ( 27 ) AND theme ( 27 , 2 ) AND agent ( 27 , 20 )\\nInput: A sandwich was grown . --> Output: sandwich ( 11 ) ; grow ( 52 ) AND theme ( 52 , 11 )\\n\\n    For every example, the possible roles that words can take are as follows:\\n    \\n     - Nouns (including proper nouns). Nouns are denoted with numbers in parentheses.\\n     - Verbs. Verbs are denoted with numbers in parentheses.\\n     - Agents (who do events). Agents are denoted by agent followed by the number(s) in parentheses referring to the noun and verb.\\n     - Themes (who undergo events). Themes are denoted by theme followed by the number(s) in parentheses referring to the noun and verb.\\n     - Recipients (who receive events). Recipients are denoted by recipient followed by the number(s) in parentheses referring to the noun and verb.\\n     - Nmod (noun modifiers). Nmod are denoted by nmod followed by the number(s) in parentheses referring to the part of the sentence that is modified.\\n     - Ccomp (comparative clauses). Ccomp are denoted by ccomp followed by the number(s) in parentheses referring to the part of the sentence that it is a complement of.\\n     \\n    '"
      ]
     },
     "execution_count": 469,
     "metadata": {},
     "output_type": "execute_result"
    }
   ],
   "source": [
    "get_plan_prompt(examples)"
   ]
  },
  {
   "cell_type": "markdown",
   "id": "101c26c3",
   "metadata": {},
   "source": [
    "Make the simple learner -- no meta learning involved! "
   ]
  },
  {
   "cell_type": "code",
   "execution_count": 470,
   "id": "7c9170a6",
   "metadata": {},
   "outputs": [],
   "source": [
    "class SimpleLearn(dspy.Signature):\n",
    "\n",
    "    __doc__ = \"\"\"\n",
    "    'Imagine you are an expert in semantic parsing of natural language.\n",
    "    A series of inputs and outputs are given to you.\n",
    "    Examples: \n",
    "    Input: A cookie was missed . --> Output: cookie ( 48 ) ; miss ( 10 ) AND theme ( 10 , 48 )\n",
    "    Input: The mandarin was doubled . --> Output: * mandarin ( 15 ) ; double ( 39 ) AND theme ( 39 , 15 )\n",
    "    Input: Ava liked that Liam nursed . --> Output: Ava ( 17 ) ; Liam ( 34 ) ; like ( 44 ) AND agent ( 44 , 17 ) AND ccomp ( 44 , 22 ) AND nurse ( 22 ) AND agent ( 22 , 34 )\n",
    "    Input: The cookie was given to Emma by a visitor . --> Output: * cookie ( 31 ) ; Emma ( 34 ) ; visitor ( 13 ) ; give ( 44 ) AND theme ( 44 , 31 ) AND recipient ( 44 , 34 ) AND agent ( 44 , 13 )\n",
    "    Input: A puppy helped a donut . --> Output: puppy ( 38 ) ; donut ( 14 ) ; help ( 27 ) AND agent ( 27 , 38 ) AND theme ( 27 , 14 )\n",
    "    Input: The pumpkin was liked by Liam . --> Output: * pumpkin ( 38 ) ; Liam ( 36 ) ; like ( 59 ) AND theme ( 59 , 38 ) AND agent ( 59 , 36 )\n",
    "    Input: A pizza was cleaned by Emma . --> Output: pizza ( 2 ) ; Emma ( 20 ) ; clean ( 27 ) AND theme ( 27 , 2 ) AND agent ( 27 , 20 )\n",
    "    Input: A sandwich was grown . --> Output: sandwich ( 11 ) ; grow ( 52 ) AND theme ( 52 , 11 )\n",
    "    For every example, the possible roles that words can take are as follows: \n",
    "    - Nouns (including proper nouns). Nouns are denoted with numbers in parentheses.\n",
    "    - Verbs. Verbs are denoted with numbers in parentheses.\n",
    "    - Agents (who do events). Agents are denoted by agent followed by the number(s) in parentheses referring to the noun and verb.\n",
    "    - Themes (who undergo events). Themes are denoted by theme followed by the number(s) in parentheses referring to the noun and verb.\n",
    "    - Recipients (who receive events). Recipients are denoted by recipient followed by the number(s) in parentheses referring to the noun and verb.\n",
    "    - Nmod (noun modifiers). Nmod are denoted by nmod followed by the number(s) in parentheses referring to the part of the sentence that is modified.\n",
    "    - Ccomp (comparative clauses). Ccomp are denoted by ccomp followed by the number(s) in parentheses referring to the part of the sentence that it is a complement of.'\n",
    "    \"\"\"\n",
    "    sentence = dspy.InputField(desc=\"A sentence to parse\")\n",
    "    logical_form = dspy.OutputField(desc=\"The logical form of the sentence\")\n",
    "\n",
    "class BasicLearn(dspy.Module):\n",
    "    def __init__(self):\n",
    "        super().__init__()\n",
    "        self.chain= dspy.ChainOfThought(SimpleLearn)\n",
    "\n",
    "    def forward(self, sentence):\n",
    "        return self.chain(sentence = sentence).logical_form    "
   ]
  },
  {
   "cell_type": "code",
   "execution_count": 473,
   "id": "420007b4",
   "metadata": {},
   "outputs": [
    {
     "name": "stderr",
     "output_type": "stream",
     "text": [
      "  8%|▊         | 8/100 [00:08<01:33,  1.01s/it]"
     ]
    },
    {
     "name": "stdout",
     "output_type": "stream",
     "text": [
      "Bootstrapped 4 full traces after 8 examples for up to 1 rounds, amounting to 8 attempts.\n"
     ]
    },
    {
     "name": "stderr",
     "output_type": "stream",
     "text": [
      "\n"
     ]
    }
   ],
   "source": [
    "from dspy.teleprompt import BootstrapFewShot, LabeledFewShot, BootstrapFewShotWithRandomSearch\n",
    "lm = dspy.LM(model='gpt-3.5-turbo', api_key=openai_key)\n",
    "dspy.settings.configure(lm=lm)\n",
    "fewshot_optimizer = BootstrapFewShot(metric=recogs_exact_match_alt)\n",
    "compiled = fewshot_optimizer.compile(student = BasicLearn(), trainset=dspy_recogs_train)"
   ]
  },
  {
   "cell_type": "code",
   "execution_count": 474,
   "id": "7a6b5c35",
   "metadata": {},
   "outputs": [
    {
     "data": {
      "text/plain": [
       "0.27"
      ]
     },
     "execution_count": 474,
     "metadata": {},
     "output_type": "execute_result"
    }
   ],
   "source": [
    "gen_set['prediction'] = gen_set[0].apply(\n",
    "    lambda x: compiled(sentence=x))     \n",
    "gen_set['correct'] = gen_set.apply(\n",
    "    lambda row: recogs_exact_match(row[1], row['prediction']), axis=1)  \n",
    "gen_set['correct'].sum() / gen_set.shape[0]     "
   ]
  },
  {
   "cell_type": "code",
   "execution_count": 475,
   "id": "962d4db6",
   "metadata": {},
   "outputs": [
    {
     "data": {
      "text/plain": [
       "2\n",
       "active_to_passive                                         0.500000\n",
       "cp_recursion                                              0.000000\n",
       "do_dative_to_pp_dative                                    0.000000\n",
       "obj_omitted_transitive_to_transitive                      0.200000\n",
       "obj_pp_to_subj_pp                                         0.111111\n",
       "obj_to_subj_common                                        0.200000\n",
       "obj_to_subj_proper                                        0.285714\n",
       "only_seen_as_transitive_subj_as_unacc_subj                0.400000\n",
       "only_seen_as_unacc_subj_as_obj_omitted_transitive_subj    0.200000\n",
       "only_seen_as_unacc_subj_as_unerg_subj                     0.000000\n",
       "passive_to_active                                         0.666667\n",
       "pp_dative_to_do_dative                                    0.000000\n",
       "pp_recursion                                              0.000000\n",
       "prim_to_inf_arg                                           0.000000\n",
       "prim_to_obj_common                                        0.428571\n",
       "prim_to_obj_proper                                        0.500000\n",
       "prim_to_subj_common                                       0.250000\n",
       "prim_to_subj_proper                                       0.666667\n",
       "subj_to_obj_common                                        0.400000\n",
       "subj_to_obj_proper                                        0.000000\n",
       "unacc_to_transitive                                       1.000000\n",
       "Name: correct, dtype: float64"
      ]
     },
     "execution_count": 475,
     "metadata": {},
     "output_type": "execute_result"
    }
   ],
   "source": [
    "gen_set.groupby([2])['correct'].mean()"
   ]
  },
  {
   "cell_type": "markdown",
   "id": "35dd8a71",
   "metadata": {},
   "source": [
    "And here we try out tree of thought"
   ]
  },
  {
   "cell_type": "code",
   "execution_count": 478,
   "id": "b4bfe3c4",
   "metadata": {},
   "outputs": [],
   "source": [
    "class Plans(dspy.Signature):\n",
    "\n",
    "\n",
    "    __doc__ = \"\"\"\n",
    "    Imagine you are an expert in semantic parsing of natural language.\n",
    "    You must develop a plan to convert each sentence into its logical form.\n",
    "\n",
    "    A series of inputs and outputs are given to you. For example:\n",
    "    Input: \"A bat was cooked .\"\n",
    "    Output: \"bat ( 59 ) ; cook ( 2 ) AND theme ( 2 , 59 )\"\n",
    "\n",
    "    To ensure that you focus on the semantic meaning of the sentences, the words themselves will replaced with other, equivalent words.\n",
    "    For example, \"bat\" might be replaced with \"cat\", and \"cook\" might be replaced with \"eat\".\n",
    "    Below is a full example of the input and output sentences, with the words replaced with other, equivalent words:\n",
    "\n",
    "    Examples: \n",
    "\n",
    "    Input: A rose was floated by Emma  --> Output: teapot ( 30 ) ; Emma ( 15 ) ; float ( 52 ) AND theme ( 52 , 30 ) AND agent ( 52 , 15 )\n",
    "    Input: Isabella liked that a cake was eaten . -->  Output: Isabella ( 13 ) ; mother ( 14 ) ; like ( 39 ) AND agent ( 39 , 13 ) AND ccomp ( 39 , 10 ) AND dust ( 10 ) AND theme ( 10 , 14 )\n",
    "    Input: A sandwich was grown . -->  Output: queen ( 11 ) ; grow ( 52 ) AND theme ( 52 , 11 )\n",
    "    Input: James respected that a box was shortened by a horse . -->  Output: James ( 45 ) ; hat ( 6 ) ; buyer ( 43 ) ; respect ( 0 ) AND agent ( 0 , 45 ) AND ccomp ( 0 , 15 ) AND shorten ( 15 ) AND theme ( 15 , 6 ) AND agent ( 15 , 43 )\n",
    "    Input: Ava liked a donut on the plate . -->  Output: Ava ( 9 ) ; journalist ( 23 ) ; * tenant ( 15 ) ; like ( 37 ) AND agent ( 37 , 9 ) AND theme ( 37 , 23 ) AND nmod . on ( 23 , 15 )\n",
    "    Input: A bottle was enlarged by Olivia . -->  Output: coach ( 19 ) ; Olivia ( 51 ) ; enlarge ( 56 ) AND theme ( 56 , 19 ) AND agent ( 56 , 51 )\n",
    "    \n",
    "    Query: \n",
    "    Input: A rose was helped by a dog . --> Output: teapot ( 1 ) ; dog ( 36 ) ; help ( 40 ) AND theme ( 40 , 1 ) AND agent ( 40 , 36 )\n",
    "    \n",
    "    For every example, the possible roles that words can take are as follows:\n",
    "    \n",
    "     - Nouns (including proper nouns). Nouns are denoted with numbers in parentheses.\n",
    "     - Verbs. Verbs are denoted with numbers in parentheses.\n",
    "     - Agents (who do events). Agents are denoted by agent followed by the number(s) in parentheses referring to the noun and verb.\n",
    "     - Themes (who undergo events). Themes are denoted by theme followed by the number(s) in parentheses referring to the noun and verb.\n",
    "     - Recipients (who receive events). Recipients are denoted by recipient followed by the number(s) in parentheses referring to the noun and verb.\n",
    "     - Nmod (noun modifiers). Nmod are denoted by nmod followed by the number(s) in parentheses referring to the part of the sentence that is modified.\n",
    "     - Ccomp (comparative clauses). Ccomp are denoted by ccomp followed by the number(s) in parentheses referring to the part of the sentence that it is a complement of.\n",
    "    \n",
    "     Your output should be a plan for converting a query input into its logical form.\n",
    "    \"\"\"\n",
    "\n",
    "    sentence = dspy.InputField(desc=\"a sentence to parse\")\n",
    "    plan = dspy.OutputField(desc=\"a plan to parse the sentence\")\n",
    "\n",
    "class Vote(dspy.Signature):\n",
    "\n",
    "    __doc__ = \"\"\"Imagine you are a group of five experts and you are given a list of plans to convert a sentence into its logical form.\n",
    "\n",
    "    Your task to score each plan on a scale of 1 to 10, where 1 is \"very bad\" and 10 is \"very good\".\n",
    "\n",
    "    After voting on each plan, select the plan that received the most votes.\"\"\"\n",
    "\n",
    "    \n",
    "    plan = dspy.InputField(desc=\"a list of plans to parse the sentence\")\n",
    "    vote: int = dspy.OutputField(desc=\"an index for the plan that received the most votes\")\n",
    "\n",
    "class ApplyPlan(dspy.Signature):\n",
    "    __doc__ = \"\"\"\n",
    "    In your output, assume the words are not permuted. For example, if the input sentence is \"A bat was cooked\", your output should be \"bat ( 59 ) ; cook ( 2 ) AND theme ( 2 , 59 )\".\n",
    "\n",
    "    For every example, the possible roles that words can take are as follows:\n",
    "\n",
    "    - Nouns (including proper nouns). Nouns are denoted with numbers in parentheses.\n",
    "    - Verbs. Verbs are denoted with numbers in parentheses.\n",
    "    - Agents (who do events). Agents are denoted by agent followed by the number(s) in parentheses referring to the noun and verb.\n",
    "    - Themes (who undergo events). Themes are denoted by theme followed by the number(s) in parentheses referring to the noun and verb.\n",
    "    - Recipients (who receive events). Recipients are denoted by recipient followed by the number(s) in parentheses referring to the noun and verb.\n",
    "    - Nmod (noun modifiers). Nmod are denoted by nmod followed by the number(s) in parentheses referring to the part of the sentence that is modified.\n",
    "    - Ccomp (comparative clauses). Ccomp are denoted by ccomp followed by the number(s) in parentheses referring to the part of the sentence that it is a complement of.\n",
    "    \"\"\"\n",
    "    test_input = dspy.InputField(desc=\"a sentence to parse\")\n",
    "    plan = dspy.InputField(desc=\"a plan to parse the sentence\")\n",
    "    logical_form = dspy.OutputField(desc=\"the logical form of the sentence\")"
   ]
  },
  {
   "cell_type": "code",
   "execution_count": 479,
   "id": "e3f656de",
   "metadata": {},
   "outputs": [],
   "source": [
    "class MetaLearn(dspy.Module):\n",
    "    def __init__(self):\n",
    "        super().__init__()\n",
    "        self.chain= dspy.ChainOfThought(Plans)\n",
    "        self.vote = dspy.ChainOfThought(Vote)\n",
    "        self.apply_plan = dspy.ChainOfThought(ApplyPlan)\n",
    "\n",
    "    def forward(self, sentence):\n",
    "\n",
    "        plans = []\n",
    "        for i in range(0, 5):\n",
    "            plans.append(self.chain(sentence = sentence).plan)\n",
    "        all_plans = \"\\n\\n\".join(plans)\n",
    "        vote = self.vote(plan = all_plans).vote\n",
    "        final_plan = plans[int(vote)]\n",
    "        logical_form = self.apply_plan(test_input = sentence, plan = final_plan).logical_form\n",
    "        return logical_form"
   ]
  },
  {
   "cell_type": "code",
   "execution_count": 480,
   "id": "5e8255b4",
   "metadata": {},
   "outputs": [
    {
     "name": "stderr",
     "output_type": "stream",
     "text": [
      " 14%|█▍        | 14/100 [00:50<04:25,  3.09s/it]2025/05/09 19:20:00 ERROR dspy.teleprompt.bootstrap: Failed to run or to evaluate example Example({'sentence': 'A mouse was passed a bag .', 'logical_form': 'mouse ( 36 ) ; bag ( 56 ) ; pass ( 21 ) AND recipient ( 21 , 36 ) AND theme ( 21 , 56 )'}) (input_keys={'sentence'}) with <function recogs_exact_match_alt at 0x3116179d0> due to list index out of range.\n",
      " 24%|██▍       | 24/100 [01:24<04:28,  3.53s/it]"
     ]
    },
    {
     "name": "stdout",
     "output_type": "stream",
     "text": [
      "Bootstrapped 4 full traces after 24 examples for up to 1 rounds, amounting to 24 attempts.\n"
     ]
    },
    {
     "name": "stderr",
     "output_type": "stream",
     "text": [
      "\n"
     ]
    }
   ],
   "source": [
    "from dspy.teleprompt import BootstrapFewShot, LabeledFewShot, BootstrapFewShotWithRandomSearch\n",
    "lm = dspy.LM(model='gpt-3.5-turbo', api_key=openai_key)\n",
    "dspy.settings.configure(lm=lm)\n",
    "fewshot_optimizer = BootstrapFewShot(metric=recogs_exact_match_alt)\n",
    "compiled = fewshot_optimizer.compile(student = MetaLearn(), trainset=dspy_recogs_train)"
   ]
  },
  {
   "cell_type": "code",
   "execution_count": 481,
   "id": "3df3e19a",
   "metadata": {},
   "outputs": [
    {
     "data": {
      "text/plain": [
       "0.2"
      ]
     },
     "execution_count": 481,
     "metadata": {},
     "output_type": "execute_result"
    }
   ],
   "source": [
    "gen_set['prediction'] = gen_set[0].apply(\n",
    "    lambda x: compiled(sentence=x))     \n",
    "gen_set['correct'] = gen_set.apply(\n",
    "    lambda row: recogs_exact_match(row[1], row['prediction']), axis=1)  \n",
    "gen_set['correct'].sum() / gen_set.shape[0]    "
   ]
  },
  {
   "cell_type": "code",
   "execution_count": 482,
   "id": "df45df7f",
   "metadata": {},
   "outputs": [
    {
     "data": {
      "text/plain": [
       "2\n",
       "active_to_passive                                         0.500000\n",
       "cp_recursion                                              0.000000\n",
       "do_dative_to_pp_dative                                    0.000000\n",
       "obj_omitted_transitive_to_transitive                      0.200000\n",
       "obj_pp_to_subj_pp                                         0.000000\n",
       "obj_to_subj_common                                        0.200000\n",
       "obj_to_subj_proper                                        0.285714\n",
       "only_seen_as_transitive_subj_as_unacc_subj                0.200000\n",
       "only_seen_as_unacc_subj_as_obj_omitted_transitive_subj    0.000000\n",
       "only_seen_as_unacc_subj_as_unerg_subj                     0.000000\n",
       "passive_to_active                                         0.333333\n",
       "pp_dative_to_do_dative                                    0.000000\n",
       "pp_recursion                                              0.000000\n",
       "prim_to_inf_arg                                           0.000000\n",
       "prim_to_obj_common                                        0.142857\n",
       "prim_to_obj_proper                                        0.500000\n",
       "prim_to_subj_common                                       0.000000\n",
       "prim_to_subj_proper                                       1.000000\n",
       "subj_to_obj_common                                        0.600000\n",
       "subj_to_obj_proper                                        1.000000\n",
       "unacc_to_transitive                                       0.333333\n",
       "Name: correct, dtype: float64"
      ]
     },
     "execution_count": 482,
     "metadata": {},
     "output_type": "execute_result"
    }
   ],
   "source": [
    "gen_set.groupby([2])['correct'].mean()"
   ]
  },
  {
   "cell_type": "code",
   "execution_count": null,
   "id": "3a42bd4b",
   "metadata": {},
   "outputs": [],
   "source": []
  }
 ],
 "metadata": {
  "kernelspec": {
   "display_name": "nlu_redo",
   "language": "python",
   "name": "python3"
  },
  "language_info": {
   "codemirror_mode": {
    "name": "ipython",
    "version": 3
   },
   "file_extension": ".py",
   "mimetype": "text/x-python",
   "name": "python",
   "nbconvert_exporter": "python",
   "pygments_lexer": "ipython3",
   "version": "3.9.21"
  }
 },
 "nbformat": 4,
 "nbformat_minor": 5
}
